{
 "cells": [
  {
   "cell_type": "markdown",
   "metadata": {},
   "source": [
    "# Исследование объявлений о продаже квартир\n",
    "\n",
    "В вашем распоряжении данные сервиса Яндекс.Недвижимость — архив объявлений о продаже квартир в Санкт-Петербурге и соседних населённых пунктов за несколько лет. Нужно научиться определять рыночную стоимость объектов недвижимости. Ваша задача — установить параметры. Это позволит построить автоматизированную систему: она отследит аномалии и мошенническую деятельность. \n",
    "\n",
    "По каждой квартире на продажу доступны два вида данных. Первые вписаны пользователем, вторые — получены автоматически на основе картографических данных. Например, расстояние до центра, аэропорта, ближайшего парка и водоёма. "
   ]
  },
  {
   "cell_type": "markdown",
   "metadata": {},
   "source": [
    "### Шаг 1. Откройте файл с данными и изучите общую информацию. "
   ]
  },
  {
   "cell_type": "code",
   "execution_count": 1,
   "metadata": {},
   "outputs": [],
   "source": [
    "import pandas as pd\n",
    "import numpy as np\n",
    "import matplotlib.pyplot as plt\n",
    "%matplotlib inline"
   ]
  },
  {
   "cell_type": "code",
   "execution_count": 2,
   "metadata": {},
   "outputs": [],
   "source": [
    "data = pd.read_csv('/datasets/real_estate_data.csv', sep='\\t')"
   ]
  },
  {
   "cell_type": "code",
   "execution_count": 3,
   "metadata": {},
   "outputs": [],
   "source": [
    "df = pd.DataFrame(data.copy(deep=True))"
   ]
  },
  {
   "cell_type": "code",
   "execution_count": 4,
   "metadata": {
    "scrolled": false
   },
   "outputs": [
    {
     "data": {
      "text/html": [
       "<div>\n",
       "<style scoped>\n",
       "    .dataframe tbody tr th:only-of-type {\n",
       "        vertical-align: middle;\n",
       "    }\n",
       "\n",
       "    .dataframe tbody tr th {\n",
       "        vertical-align: top;\n",
       "    }\n",
       "\n",
       "    .dataframe thead th {\n",
       "        text-align: right;\n",
       "    }\n",
       "</style>\n",
       "<table border=\"1\" class=\"dataframe\">\n",
       "  <thead>\n",
       "    <tr style=\"text-align: right;\">\n",
       "      <th></th>\n",
       "      <th>total_images</th>\n",
       "      <th>last_price</th>\n",
       "      <th>total_area</th>\n",
       "      <th>first_day_exposition</th>\n",
       "      <th>rooms</th>\n",
       "      <th>ceiling_height</th>\n",
       "      <th>floors_total</th>\n",
       "      <th>living_area</th>\n",
       "      <th>floor</th>\n",
       "      <th>is_apartment</th>\n",
       "      <th>...</th>\n",
       "      <th>kitchen_area</th>\n",
       "      <th>balcony</th>\n",
       "      <th>locality_name</th>\n",
       "      <th>airports_nearest</th>\n",
       "      <th>cityCenters_nearest</th>\n",
       "      <th>parks_around3000</th>\n",
       "      <th>parks_nearest</th>\n",
       "      <th>ponds_around3000</th>\n",
       "      <th>ponds_nearest</th>\n",
       "      <th>days_exposition</th>\n",
       "    </tr>\n",
       "  </thead>\n",
       "  <tbody>\n",
       "    <tr>\n",
       "      <td>0</td>\n",
       "      <td>20</td>\n",
       "      <td>13000000.0</td>\n",
       "      <td>108.0</td>\n",
       "      <td>2019-03-07T00:00:00</td>\n",
       "      <td>3</td>\n",
       "      <td>2.70</td>\n",
       "      <td>16.0</td>\n",
       "      <td>51.0</td>\n",
       "      <td>8</td>\n",
       "      <td>NaN</td>\n",
       "      <td>...</td>\n",
       "      <td>25.0</td>\n",
       "      <td>NaN</td>\n",
       "      <td>Санкт-Петербург</td>\n",
       "      <td>18863.0</td>\n",
       "      <td>16028.0</td>\n",
       "      <td>1.0</td>\n",
       "      <td>482.0</td>\n",
       "      <td>2.0</td>\n",
       "      <td>755.0</td>\n",
       "      <td>NaN</td>\n",
       "    </tr>\n",
       "    <tr>\n",
       "      <td>1</td>\n",
       "      <td>7</td>\n",
       "      <td>3350000.0</td>\n",
       "      <td>40.4</td>\n",
       "      <td>2018-12-04T00:00:00</td>\n",
       "      <td>1</td>\n",
       "      <td>NaN</td>\n",
       "      <td>11.0</td>\n",
       "      <td>18.6</td>\n",
       "      <td>1</td>\n",
       "      <td>NaN</td>\n",
       "      <td>...</td>\n",
       "      <td>11.0</td>\n",
       "      <td>2.0</td>\n",
       "      <td>посёлок Шушары</td>\n",
       "      <td>12817.0</td>\n",
       "      <td>18603.0</td>\n",
       "      <td>0.0</td>\n",
       "      <td>NaN</td>\n",
       "      <td>0.0</td>\n",
       "      <td>NaN</td>\n",
       "      <td>81.0</td>\n",
       "    </tr>\n",
       "    <tr>\n",
       "      <td>2</td>\n",
       "      <td>10</td>\n",
       "      <td>5196000.0</td>\n",
       "      <td>56.0</td>\n",
       "      <td>2015-08-20T00:00:00</td>\n",
       "      <td>2</td>\n",
       "      <td>NaN</td>\n",
       "      <td>5.0</td>\n",
       "      <td>34.3</td>\n",
       "      <td>4</td>\n",
       "      <td>NaN</td>\n",
       "      <td>...</td>\n",
       "      <td>8.3</td>\n",
       "      <td>0.0</td>\n",
       "      <td>Санкт-Петербург</td>\n",
       "      <td>21741.0</td>\n",
       "      <td>13933.0</td>\n",
       "      <td>1.0</td>\n",
       "      <td>90.0</td>\n",
       "      <td>2.0</td>\n",
       "      <td>574.0</td>\n",
       "      <td>558.0</td>\n",
       "    </tr>\n",
       "    <tr>\n",
       "      <td>3</td>\n",
       "      <td>0</td>\n",
       "      <td>64900000.0</td>\n",
       "      <td>159.0</td>\n",
       "      <td>2015-07-24T00:00:00</td>\n",
       "      <td>3</td>\n",
       "      <td>NaN</td>\n",
       "      <td>14.0</td>\n",
       "      <td>NaN</td>\n",
       "      <td>9</td>\n",
       "      <td>NaN</td>\n",
       "      <td>...</td>\n",
       "      <td>NaN</td>\n",
       "      <td>0.0</td>\n",
       "      <td>Санкт-Петербург</td>\n",
       "      <td>28098.0</td>\n",
       "      <td>6800.0</td>\n",
       "      <td>2.0</td>\n",
       "      <td>84.0</td>\n",
       "      <td>3.0</td>\n",
       "      <td>234.0</td>\n",
       "      <td>424.0</td>\n",
       "    </tr>\n",
       "    <tr>\n",
       "      <td>4</td>\n",
       "      <td>2</td>\n",
       "      <td>10000000.0</td>\n",
       "      <td>100.0</td>\n",
       "      <td>2018-06-19T00:00:00</td>\n",
       "      <td>2</td>\n",
       "      <td>3.03</td>\n",
       "      <td>14.0</td>\n",
       "      <td>32.0</td>\n",
       "      <td>13</td>\n",
       "      <td>NaN</td>\n",
       "      <td>...</td>\n",
       "      <td>41.0</td>\n",
       "      <td>NaN</td>\n",
       "      <td>Санкт-Петербург</td>\n",
       "      <td>31856.0</td>\n",
       "      <td>8098.0</td>\n",
       "      <td>2.0</td>\n",
       "      <td>112.0</td>\n",
       "      <td>1.0</td>\n",
       "      <td>48.0</td>\n",
       "      <td>121.0</td>\n",
       "    </tr>\n",
       "  </tbody>\n",
       "</table>\n",
       "<p>5 rows × 22 columns</p>\n",
       "</div>"
      ],
      "text/plain": [
       "   total_images  last_price  total_area first_day_exposition  rooms  \\\n",
       "0            20  13000000.0       108.0  2019-03-07T00:00:00      3   \n",
       "1             7   3350000.0        40.4  2018-12-04T00:00:00      1   \n",
       "2            10   5196000.0        56.0  2015-08-20T00:00:00      2   \n",
       "3             0  64900000.0       159.0  2015-07-24T00:00:00      3   \n",
       "4             2  10000000.0       100.0  2018-06-19T00:00:00      2   \n",
       "\n",
       "   ceiling_height  floors_total  living_area  floor is_apartment  ...  \\\n",
       "0            2.70          16.0         51.0      8          NaN  ...   \n",
       "1             NaN          11.0         18.6      1          NaN  ...   \n",
       "2             NaN           5.0         34.3      4          NaN  ...   \n",
       "3             NaN          14.0          NaN      9          NaN  ...   \n",
       "4            3.03          14.0         32.0     13          NaN  ...   \n",
       "\n",
       "   kitchen_area  balcony    locality_name  airports_nearest  \\\n",
       "0          25.0      NaN  Санкт-Петербург           18863.0   \n",
       "1          11.0      2.0   посёлок Шушары           12817.0   \n",
       "2           8.3      0.0  Санкт-Петербург           21741.0   \n",
       "3           NaN      0.0  Санкт-Петербург           28098.0   \n",
       "4          41.0      NaN  Санкт-Петербург           31856.0   \n",
       "\n",
       "  cityCenters_nearest  parks_around3000  parks_nearest  ponds_around3000  \\\n",
       "0             16028.0               1.0          482.0               2.0   \n",
       "1             18603.0               0.0            NaN               0.0   \n",
       "2             13933.0               1.0           90.0               2.0   \n",
       "3              6800.0               2.0           84.0               3.0   \n",
       "4              8098.0               2.0          112.0               1.0   \n",
       "\n",
       "   ponds_nearest  days_exposition  \n",
       "0          755.0              NaN  \n",
       "1            NaN             81.0  \n",
       "2          574.0            558.0  \n",
       "3          234.0            424.0  \n",
       "4           48.0            121.0  \n",
       "\n",
       "[5 rows x 22 columns]"
      ]
     },
     "execution_count": 4,
     "metadata": {},
     "output_type": "execute_result"
    }
   ],
   "source": [
    "df.head()"
   ]
  },
  {
   "cell_type": "code",
   "execution_count": 5,
   "metadata": {},
   "outputs": [
    {
     "name": "stdout",
     "output_type": "stream",
     "text": [
      "<class 'pandas.core.frame.DataFrame'>\n",
      "RangeIndex: 23699 entries, 0 to 23698\n",
      "Data columns (total 22 columns):\n",
      "total_images            23699 non-null int64\n",
      "last_price              23699 non-null float64\n",
      "total_area              23699 non-null float64\n",
      "first_day_exposition    23699 non-null object\n",
      "rooms                   23699 non-null int64\n",
      "ceiling_height          14504 non-null float64\n",
      "floors_total            23613 non-null float64\n",
      "living_area             21796 non-null float64\n",
      "floor                   23699 non-null int64\n",
      "is_apartment            2775 non-null object\n",
      "studio                  23699 non-null bool\n",
      "open_plan               23699 non-null bool\n",
      "kitchen_area            21421 non-null float64\n",
      "balcony                 12180 non-null float64\n",
      "locality_name           23650 non-null object\n",
      "airports_nearest        18157 non-null float64\n",
      "cityCenters_nearest     18180 non-null float64\n",
      "parks_around3000        18181 non-null float64\n",
      "parks_nearest           8079 non-null float64\n",
      "ponds_around3000        18181 non-null float64\n",
      "ponds_nearest           9110 non-null float64\n",
      "days_exposition         20518 non-null float64\n",
      "dtypes: bool(2), float64(14), int64(3), object(3)\n",
      "memory usage: 3.7+ MB\n"
     ]
    }
   ],
   "source": [
    "df.info()"
   ]
  },
  {
   "cell_type": "markdown",
   "metadata": {},
   "source": [
    "#### В датафрейме имеются столбцы различных типов данных, имеются строковые, например first_day_exposition - его мы переведем в формат даты на этапе предобработки. Много столбцов типа float, некоторые из них для удобства можно будет перевести в int. Имеются пропуски, рассмотрим их количество ниже"
   ]
  },
  {
   "cell_type": "code",
   "execution_count": 6,
   "metadata": {},
   "outputs": [
    {
     "data": {
      "text/plain": [
       "total_images                0\n",
       "last_price                  0\n",
       "total_area                  0\n",
       "first_day_exposition        0\n",
       "rooms                       0\n",
       "ceiling_height           9195\n",
       "floors_total               86\n",
       "living_area              1903\n",
       "floor                       0\n",
       "is_apartment            20924\n",
       "studio                      0\n",
       "open_plan                   0\n",
       "kitchen_area             2278\n",
       "balcony                 11519\n",
       "locality_name              49\n",
       "airports_nearest         5542\n",
       "cityCenters_nearest      5519\n",
       "parks_around3000         5518\n",
       "parks_nearest           15620\n",
       "ponds_around3000         5518\n",
       "ponds_nearest           14589\n",
       "days_exposition          3181\n",
       "dtype: int64"
      ]
     },
     "execution_count": 6,
     "metadata": {},
     "output_type": "execute_result"
    }
   ],
   "source": [
    "#количество пропусков\n",
    "df.isnull().sum()"
   ]
  },
  {
   "cell_type": "code",
   "execution_count": 7,
   "metadata": {},
   "outputs": [
    {
     "data": {
      "text/plain": [
       "False    2725\n",
       "True       50\n",
       "Name: is_apartment, dtype: int64"
      ]
     },
     "execution_count": 7,
     "metadata": {},
     "output_type": "execute_result"
    }
   ],
   "source": [
    "df.is_apartment.value_counts()"
   ]
  },
  {
   "cell_type": "markdown",
   "metadata": {},
   "source": [
    "#### Для многих квартир не указано - апартаменты это или нет. Наверное просто забыли, для заполнения пропусков надо будет использовать False. Возможно также перевести столбец в булевый, тогда надо будет заполнять нулями. Рассмотрим подробнее пропущенные значения на шаге 2."
   ]
  },
  {
   "cell_type": "markdown",
   "metadata": {},
   "source": [
    "### Вывод"
   ]
  },
  {
   "cell_type": "markdown",
   "metadata": {},
   "source": [
    ">Датасет содержит 22 столбца и 23699 строк, во многих строках имеются множественные пропуски, которые придется заполнять разными методами. Некоторые будем заполнять нулями или False, количественные - медианами, а некоторые данные, возможно, получится достать из уже имеющихся.\n",
    "Датасет также содержит различные типы данных, которые мы также преобразуем на втором шаге - предобработка данных. "
   ]
  },
  {
   "cell_type": "markdown",
   "metadata": {},
   "source": [
    "### Шаг 2. Предобработка данных"
   ]
  },
  {
   "cell_type": "markdown",
   "metadata": {},
   "source": [
    "#### Рассмотрим высоту потолков"
   ]
  },
  {
   "cell_type": "code",
   "execution_count": 8,
   "metadata": {
    "scrolled": true
   },
   "outputs": [
    {
     "data": {
      "text/html": [
       "<div>\n",
       "<style scoped>\n",
       "    .dataframe tbody tr th:only-of-type {\n",
       "        vertical-align: middle;\n",
       "    }\n",
       "\n",
       "    .dataframe tbody tr th {\n",
       "        vertical-align: top;\n",
       "    }\n",
       "\n",
       "    .dataframe thead th {\n",
       "        text-align: right;\n",
       "    }\n",
       "</style>\n",
       "<table border=\"1\" class=\"dataframe\">\n",
       "  <thead>\n",
       "    <tr style=\"text-align: right;\">\n",
       "      <th></th>\n",
       "      <th>total_images</th>\n",
       "      <th>last_price</th>\n",
       "      <th>total_area</th>\n",
       "      <th>first_day_exposition</th>\n",
       "      <th>rooms</th>\n",
       "      <th>ceiling_height</th>\n",
       "      <th>floors_total</th>\n",
       "      <th>living_area</th>\n",
       "      <th>floor</th>\n",
       "      <th>is_apartment</th>\n",
       "      <th>...</th>\n",
       "      <th>kitchen_area</th>\n",
       "      <th>balcony</th>\n",
       "      <th>locality_name</th>\n",
       "      <th>airports_nearest</th>\n",
       "      <th>cityCenters_nearest</th>\n",
       "      <th>parks_around3000</th>\n",
       "      <th>parks_nearest</th>\n",
       "      <th>ponds_around3000</th>\n",
       "      <th>ponds_nearest</th>\n",
       "      <th>days_exposition</th>\n",
       "    </tr>\n",
       "  </thead>\n",
       "  <tbody>\n",
       "    <tr>\n",
       "      <td>1</td>\n",
       "      <td>7</td>\n",
       "      <td>3350000.0</td>\n",
       "      <td>40.4</td>\n",
       "      <td>2018-12-04T00:00:00</td>\n",
       "      <td>1</td>\n",
       "      <td>NaN</td>\n",
       "      <td>11.0</td>\n",
       "      <td>18.6</td>\n",
       "      <td>1</td>\n",
       "      <td>NaN</td>\n",
       "      <td>...</td>\n",
       "      <td>11.0</td>\n",
       "      <td>2.0</td>\n",
       "      <td>посёлок Шушары</td>\n",
       "      <td>12817.0</td>\n",
       "      <td>18603.0</td>\n",
       "      <td>0.0</td>\n",
       "      <td>NaN</td>\n",
       "      <td>0.0</td>\n",
       "      <td>NaN</td>\n",
       "      <td>81.0</td>\n",
       "    </tr>\n",
       "    <tr>\n",
       "      <td>2</td>\n",
       "      <td>10</td>\n",
       "      <td>5196000.0</td>\n",
       "      <td>56.0</td>\n",
       "      <td>2015-08-20T00:00:00</td>\n",
       "      <td>2</td>\n",
       "      <td>NaN</td>\n",
       "      <td>5.0</td>\n",
       "      <td>34.3</td>\n",
       "      <td>4</td>\n",
       "      <td>NaN</td>\n",
       "      <td>...</td>\n",
       "      <td>8.3</td>\n",
       "      <td>0.0</td>\n",
       "      <td>Санкт-Петербург</td>\n",
       "      <td>21741.0</td>\n",
       "      <td>13933.0</td>\n",
       "      <td>1.0</td>\n",
       "      <td>90.0</td>\n",
       "      <td>2.0</td>\n",
       "      <td>574.0</td>\n",
       "      <td>558.0</td>\n",
       "    </tr>\n",
       "    <tr>\n",
       "      <td>3</td>\n",
       "      <td>0</td>\n",
       "      <td>64900000.0</td>\n",
       "      <td>159.0</td>\n",
       "      <td>2015-07-24T00:00:00</td>\n",
       "      <td>3</td>\n",
       "      <td>NaN</td>\n",
       "      <td>14.0</td>\n",
       "      <td>NaN</td>\n",
       "      <td>9</td>\n",
       "      <td>NaN</td>\n",
       "      <td>...</td>\n",
       "      <td>NaN</td>\n",
       "      <td>0.0</td>\n",
       "      <td>Санкт-Петербург</td>\n",
       "      <td>28098.0</td>\n",
       "      <td>6800.0</td>\n",
       "      <td>2.0</td>\n",
       "      <td>84.0</td>\n",
       "      <td>3.0</td>\n",
       "      <td>234.0</td>\n",
       "      <td>424.0</td>\n",
       "    </tr>\n",
       "    <tr>\n",
       "      <td>5</td>\n",
       "      <td>10</td>\n",
       "      <td>2890000.0</td>\n",
       "      <td>30.4</td>\n",
       "      <td>2018-09-10T00:00:00</td>\n",
       "      <td>1</td>\n",
       "      <td>NaN</td>\n",
       "      <td>12.0</td>\n",
       "      <td>14.4</td>\n",
       "      <td>5</td>\n",
       "      <td>NaN</td>\n",
       "      <td>...</td>\n",
       "      <td>9.1</td>\n",
       "      <td>NaN</td>\n",
       "      <td>городской посёлок Янино-1</td>\n",
       "      <td>NaN</td>\n",
       "      <td>NaN</td>\n",
       "      <td>NaN</td>\n",
       "      <td>NaN</td>\n",
       "      <td>NaN</td>\n",
       "      <td>NaN</td>\n",
       "      <td>55.0</td>\n",
       "    </tr>\n",
       "    <tr>\n",
       "      <td>6</td>\n",
       "      <td>6</td>\n",
       "      <td>3700000.0</td>\n",
       "      <td>37.3</td>\n",
       "      <td>2017-11-02T00:00:00</td>\n",
       "      <td>1</td>\n",
       "      <td>NaN</td>\n",
       "      <td>26.0</td>\n",
       "      <td>10.6</td>\n",
       "      <td>6</td>\n",
       "      <td>NaN</td>\n",
       "      <td>...</td>\n",
       "      <td>14.4</td>\n",
       "      <td>1.0</td>\n",
       "      <td>посёлок Парголово</td>\n",
       "      <td>52996.0</td>\n",
       "      <td>19143.0</td>\n",
       "      <td>0.0</td>\n",
       "      <td>NaN</td>\n",
       "      <td>0.0</td>\n",
       "      <td>NaN</td>\n",
       "      <td>155.0</td>\n",
       "    </tr>\n",
       "    <tr>\n",
       "      <td>...</td>\n",
       "      <td>...</td>\n",
       "      <td>...</td>\n",
       "      <td>...</td>\n",
       "      <td>...</td>\n",
       "      <td>...</td>\n",
       "      <td>...</td>\n",
       "      <td>...</td>\n",
       "      <td>...</td>\n",
       "      <td>...</td>\n",
       "      <td>...</td>\n",
       "      <td>...</td>\n",
       "      <td>...</td>\n",
       "      <td>...</td>\n",
       "      <td>...</td>\n",
       "      <td>...</td>\n",
       "      <td>...</td>\n",
       "      <td>...</td>\n",
       "      <td>...</td>\n",
       "      <td>...</td>\n",
       "      <td>...</td>\n",
       "      <td>...</td>\n",
       "    </tr>\n",
       "    <tr>\n",
       "      <td>23687</td>\n",
       "      <td>6</td>\n",
       "      <td>3200000.0</td>\n",
       "      <td>39.0</td>\n",
       "      <td>2017-12-16T00:00:00</td>\n",
       "      <td>1</td>\n",
       "      <td>NaN</td>\n",
       "      <td>9.0</td>\n",
       "      <td>20.0</td>\n",
       "      <td>6</td>\n",
       "      <td>NaN</td>\n",
       "      <td>...</td>\n",
       "      <td>11.0</td>\n",
       "      <td>2.0</td>\n",
       "      <td>Санкт-Петербург</td>\n",
       "      <td>40837.0</td>\n",
       "      <td>16704.0</td>\n",
       "      <td>0.0</td>\n",
       "      <td>NaN</td>\n",
       "      <td>0.0</td>\n",
       "      <td>NaN</td>\n",
       "      <td>38.0</td>\n",
       "    </tr>\n",
       "    <tr>\n",
       "      <td>23690</td>\n",
       "      <td>3</td>\n",
       "      <td>5500000.0</td>\n",
       "      <td>52.0</td>\n",
       "      <td>2018-07-19T00:00:00</td>\n",
       "      <td>2</td>\n",
       "      <td>NaN</td>\n",
       "      <td>5.0</td>\n",
       "      <td>31.0</td>\n",
       "      <td>2</td>\n",
       "      <td>NaN</td>\n",
       "      <td>...</td>\n",
       "      <td>6.0</td>\n",
       "      <td>NaN</td>\n",
       "      <td>Санкт-Петербург</td>\n",
       "      <td>20151.0</td>\n",
       "      <td>6263.0</td>\n",
       "      <td>1.0</td>\n",
       "      <td>300.0</td>\n",
       "      <td>0.0</td>\n",
       "      <td>NaN</td>\n",
       "      <td>15.0</td>\n",
       "    </tr>\n",
       "    <tr>\n",
       "      <td>23692</td>\n",
       "      <td>2</td>\n",
       "      <td>1350000.0</td>\n",
       "      <td>30.0</td>\n",
       "      <td>2017-07-07T00:00:00</td>\n",
       "      <td>1</td>\n",
       "      <td>NaN</td>\n",
       "      <td>5.0</td>\n",
       "      <td>17.5</td>\n",
       "      <td>4</td>\n",
       "      <td>NaN</td>\n",
       "      <td>...</td>\n",
       "      <td>6.0</td>\n",
       "      <td>NaN</td>\n",
       "      <td>Тихвин</td>\n",
       "      <td>NaN</td>\n",
       "      <td>NaN</td>\n",
       "      <td>NaN</td>\n",
       "      <td>NaN</td>\n",
       "      <td>NaN</td>\n",
       "      <td>NaN</td>\n",
       "      <td>413.0</td>\n",
       "    </tr>\n",
       "    <tr>\n",
       "      <td>23695</td>\n",
       "      <td>14</td>\n",
       "      <td>3100000.0</td>\n",
       "      <td>59.0</td>\n",
       "      <td>2018-01-15T00:00:00</td>\n",
       "      <td>3</td>\n",
       "      <td>NaN</td>\n",
       "      <td>5.0</td>\n",
       "      <td>38.0</td>\n",
       "      <td>4</td>\n",
       "      <td>NaN</td>\n",
       "      <td>...</td>\n",
       "      <td>8.5</td>\n",
       "      <td>NaN</td>\n",
       "      <td>Тосно</td>\n",
       "      <td>NaN</td>\n",
       "      <td>NaN</td>\n",
       "      <td>NaN</td>\n",
       "      <td>NaN</td>\n",
       "      <td>NaN</td>\n",
       "      <td>NaN</td>\n",
       "      <td>45.0</td>\n",
       "    </tr>\n",
       "    <tr>\n",
       "      <td>23696</td>\n",
       "      <td>18</td>\n",
       "      <td>2500000.0</td>\n",
       "      <td>56.7</td>\n",
       "      <td>2018-02-11T00:00:00</td>\n",
       "      <td>2</td>\n",
       "      <td>NaN</td>\n",
       "      <td>3.0</td>\n",
       "      <td>29.7</td>\n",
       "      <td>1</td>\n",
       "      <td>NaN</td>\n",
       "      <td>...</td>\n",
       "      <td>NaN</td>\n",
       "      <td>NaN</td>\n",
       "      <td>село Рождествено</td>\n",
       "      <td>NaN</td>\n",
       "      <td>NaN</td>\n",
       "      <td>NaN</td>\n",
       "      <td>NaN</td>\n",
       "      <td>NaN</td>\n",
       "      <td>NaN</td>\n",
       "      <td>NaN</td>\n",
       "    </tr>\n",
       "  </tbody>\n",
       "</table>\n",
       "<p>9195 rows × 22 columns</p>\n",
       "</div>"
      ],
      "text/plain": [
       "       total_images  last_price  total_area first_day_exposition  rooms  \\\n",
       "1                 7   3350000.0        40.4  2018-12-04T00:00:00      1   \n",
       "2                10   5196000.0        56.0  2015-08-20T00:00:00      2   \n",
       "3                 0  64900000.0       159.0  2015-07-24T00:00:00      3   \n",
       "5                10   2890000.0        30.4  2018-09-10T00:00:00      1   \n",
       "6                 6   3700000.0        37.3  2017-11-02T00:00:00      1   \n",
       "...             ...         ...         ...                  ...    ...   \n",
       "23687             6   3200000.0        39.0  2017-12-16T00:00:00      1   \n",
       "23690             3   5500000.0        52.0  2018-07-19T00:00:00      2   \n",
       "23692             2   1350000.0        30.0  2017-07-07T00:00:00      1   \n",
       "23695            14   3100000.0        59.0  2018-01-15T00:00:00      3   \n",
       "23696            18   2500000.0        56.7  2018-02-11T00:00:00      2   \n",
       "\n",
       "       ceiling_height  floors_total  living_area  floor is_apartment  ...  \\\n",
       "1                 NaN          11.0         18.6      1          NaN  ...   \n",
       "2                 NaN           5.0         34.3      4          NaN  ...   \n",
       "3                 NaN          14.0          NaN      9          NaN  ...   \n",
       "5                 NaN          12.0         14.4      5          NaN  ...   \n",
       "6                 NaN          26.0         10.6      6          NaN  ...   \n",
       "...               ...           ...          ...    ...          ...  ...   \n",
       "23687             NaN           9.0         20.0      6          NaN  ...   \n",
       "23690             NaN           5.0         31.0      2          NaN  ...   \n",
       "23692             NaN           5.0         17.5      4          NaN  ...   \n",
       "23695             NaN           5.0         38.0      4          NaN  ...   \n",
       "23696             NaN           3.0         29.7      1          NaN  ...   \n",
       "\n",
       "       kitchen_area  balcony              locality_name  airports_nearest  \\\n",
       "1              11.0      2.0             посёлок Шушары           12817.0   \n",
       "2               8.3      0.0            Санкт-Петербург           21741.0   \n",
       "3               NaN      0.0            Санкт-Петербург           28098.0   \n",
       "5               9.1      NaN  городской посёлок Янино-1               NaN   \n",
       "6              14.4      1.0          посёлок Парголово           52996.0   \n",
       "...             ...      ...                        ...               ...   \n",
       "23687          11.0      2.0            Санкт-Петербург           40837.0   \n",
       "23690           6.0      NaN            Санкт-Петербург           20151.0   \n",
       "23692           6.0      NaN                     Тихвин               NaN   \n",
       "23695           8.5      NaN                      Тосно               NaN   \n",
       "23696           NaN      NaN           село Рождествено               NaN   \n",
       "\n",
       "      cityCenters_nearest  parks_around3000  parks_nearest  ponds_around3000  \\\n",
       "1                 18603.0               0.0            NaN               0.0   \n",
       "2                 13933.0               1.0           90.0               2.0   \n",
       "3                  6800.0               2.0           84.0               3.0   \n",
       "5                     NaN               NaN            NaN               NaN   \n",
       "6                 19143.0               0.0            NaN               0.0   \n",
       "...                   ...               ...            ...               ...   \n",
       "23687             16704.0               0.0            NaN               0.0   \n",
       "23690              6263.0               1.0          300.0               0.0   \n",
       "23692                 NaN               NaN            NaN               NaN   \n",
       "23695                 NaN               NaN            NaN               NaN   \n",
       "23696                 NaN               NaN            NaN               NaN   \n",
       "\n",
       "       ponds_nearest  days_exposition  \n",
       "1                NaN             81.0  \n",
       "2              574.0            558.0  \n",
       "3              234.0            424.0  \n",
       "5                NaN             55.0  \n",
       "6                NaN            155.0  \n",
       "...              ...              ...  \n",
       "23687            NaN             38.0  \n",
       "23690            NaN             15.0  \n",
       "23692            NaN            413.0  \n",
       "23695            NaN             45.0  \n",
       "23696            NaN              NaN  \n",
       "\n",
       "[9195 rows x 22 columns]"
      ]
     },
     "execution_count": 8,
     "metadata": {},
     "output_type": "execute_result"
    }
   ],
   "source": [
    "df[df.ceiling_height.isna()]"
   ]
  },
  {
   "cell_type": "markdown",
   "metadata": {},
   "source": [
    "Обнаружили выброс при значении этажей = 36, посмотрим с чем это связано"
   ]
  },
  {
   "cell_type": "code",
   "execution_count": 9,
   "metadata": {
    "scrolled": true
   },
   "outputs": [
    {
     "data": {
      "text/html": [
       "<div>\n",
       "<style scoped>\n",
       "    .dataframe tbody tr th:only-of-type {\n",
       "        vertical-align: middle;\n",
       "    }\n",
       "\n",
       "    .dataframe tbody tr th {\n",
       "        vertical-align: top;\n",
       "    }\n",
       "\n",
       "    .dataframe thead th {\n",
       "        text-align: right;\n",
       "    }\n",
       "</style>\n",
       "<table border=\"1\" class=\"dataframe\">\n",
       "  <thead>\n",
       "    <tr style=\"text-align: right;\">\n",
       "      <th></th>\n",
       "      <th>total_images</th>\n",
       "      <th>last_price</th>\n",
       "      <th>total_area</th>\n",
       "      <th>first_day_exposition</th>\n",
       "      <th>rooms</th>\n",
       "      <th>ceiling_height</th>\n",
       "      <th>floors_total</th>\n",
       "      <th>living_area</th>\n",
       "      <th>floor</th>\n",
       "      <th>is_apartment</th>\n",
       "      <th>...</th>\n",
       "      <th>kitchen_area</th>\n",
       "      <th>balcony</th>\n",
       "      <th>locality_name</th>\n",
       "      <th>airports_nearest</th>\n",
       "      <th>cityCenters_nearest</th>\n",
       "      <th>parks_around3000</th>\n",
       "      <th>parks_nearest</th>\n",
       "      <th>ponds_around3000</th>\n",
       "      <th>ponds_nearest</th>\n",
       "      <th>days_exposition</th>\n",
       "    </tr>\n",
       "  </thead>\n",
       "  <tbody>\n",
       "    <tr>\n",
       "      <td>397</td>\n",
       "      <td>15</td>\n",
       "      <td>5990000.0</td>\n",
       "      <td>54.0</td>\n",
       "      <td>2018-03-22T00:00:00</td>\n",
       "      <td>2</td>\n",
       "      <td>NaN</td>\n",
       "      <td>36.0</td>\n",
       "      <td>21.4</td>\n",
       "      <td>28</td>\n",
       "      <td>NaN</td>\n",
       "      <td>...</td>\n",
       "      <td>18.7</td>\n",
       "      <td>1.0</td>\n",
       "      <td>Санкт-Петербург</td>\n",
       "      <td>18732.0</td>\n",
       "      <td>20444.0</td>\n",
       "      <td>0.0</td>\n",
       "      <td>NaN</td>\n",
       "      <td>3.0</td>\n",
       "      <td>80.0</td>\n",
       "      <td>11.0</td>\n",
       "    </tr>\n",
       "    <tr>\n",
       "      <td>5807</td>\n",
       "      <td>17</td>\n",
       "      <td>8150000.0</td>\n",
       "      <td>80.0</td>\n",
       "      <td>2019-01-09T00:00:00</td>\n",
       "      <td>2</td>\n",
       "      <td>27.0</td>\n",
       "      <td>36.0</td>\n",
       "      <td>41.0</td>\n",
       "      <td>13</td>\n",
       "      <td>NaN</td>\n",
       "      <td>...</td>\n",
       "      <td>12.0</td>\n",
       "      <td>5.0</td>\n",
       "      <td>Санкт-Петербург</td>\n",
       "      <td>18732.0</td>\n",
       "      <td>20444.0</td>\n",
       "      <td>0.0</td>\n",
       "      <td>NaN</td>\n",
       "      <td>3.0</td>\n",
       "      <td>80.0</td>\n",
       "      <td>38.0</td>\n",
       "    </tr>\n",
       "    <tr>\n",
       "      <td>11079</td>\n",
       "      <td>16</td>\n",
       "      <td>9200000.0</td>\n",
       "      <td>75.0</td>\n",
       "      <td>2019-02-22T00:00:00</td>\n",
       "      <td>2</td>\n",
       "      <td>2.7</td>\n",
       "      <td>36.0</td>\n",
       "      <td>40.0</td>\n",
       "      <td>29</td>\n",
       "      <td>NaN</td>\n",
       "      <td>...</td>\n",
       "      <td>12.0</td>\n",
       "      <td>2.0</td>\n",
       "      <td>Санкт-Петербург</td>\n",
       "      <td>18732.0</td>\n",
       "      <td>20444.0</td>\n",
       "      <td>0.0</td>\n",
       "      <td>NaN</td>\n",
       "      <td>3.0</td>\n",
       "      <td>80.0</td>\n",
       "      <td>NaN</td>\n",
       "    </tr>\n",
       "  </tbody>\n",
       "</table>\n",
       "<p>3 rows × 22 columns</p>\n",
       "</div>"
      ],
      "text/plain": [
       "       total_images  last_price  total_area first_day_exposition  rooms  \\\n",
       "397              15   5990000.0        54.0  2018-03-22T00:00:00      2   \n",
       "5807             17   8150000.0        80.0  2019-01-09T00:00:00      2   \n",
       "11079            16   9200000.0        75.0  2019-02-22T00:00:00      2   \n",
       "\n",
       "       ceiling_height  floors_total  living_area  floor is_apartment  ...  \\\n",
       "397               NaN          36.0         21.4     28          NaN  ...   \n",
       "5807             27.0          36.0         41.0     13          NaN  ...   \n",
       "11079             2.7          36.0         40.0     29          NaN  ...   \n",
       "\n",
       "       kitchen_area  balcony    locality_name  airports_nearest  \\\n",
       "397            18.7      1.0  Санкт-Петербург           18732.0   \n",
       "5807           12.0      5.0  Санкт-Петербург           18732.0   \n",
       "11079          12.0      2.0  Санкт-Петербург           18732.0   \n",
       "\n",
       "      cityCenters_nearest  parks_around3000  parks_nearest  ponds_around3000  \\\n",
       "397               20444.0               0.0            NaN               3.0   \n",
       "5807              20444.0               0.0            NaN               3.0   \n",
       "11079             20444.0               0.0            NaN               3.0   \n",
       "\n",
       "       ponds_nearest  days_exposition  \n",
       "397             80.0             11.0  \n",
       "5807            80.0             38.0  \n",
       "11079           80.0              NaN  \n",
       "\n",
       "[3 rows x 22 columns]"
      ]
     },
     "execution_count": 9,
     "metadata": {},
     "output_type": "execute_result"
    }
   ],
   "source": [
    "df[df.floors_total == 36]"
   ]
  },
  {
   "cell_type": "markdown",
   "metadata": {},
   "source": [
    "###### Заметим, что расстояния до аэропорта и до центра одинаковое для всех трех квартир, следовательно это один и тот же дом. Наверняка у всех квартир одинаковая высота потолков. Заменим 27 на 2.7"
   ]
  },
  {
   "cell_type": "code",
   "execution_count": 10,
   "metadata": {},
   "outputs": [],
   "source": [
    "df.loc[5807, 'ceiling_height'] = 2.7\n",
    "df.loc[397, 'ceiling_height'] = 2.7"
   ]
  },
  {
   "cell_type": "markdown",
   "metadata": {},
   "source": [
    "Проверим какие еще есть выбросы в бОльшую сторону по высоте потолков в нашей выборке"
   ]
  },
  {
   "cell_type": "code",
   "execution_count": 11,
   "metadata": {},
   "outputs": [
    {
     "data": {
      "image/png": "[encoded data removed]",
      "text/plain": [
       "<Figure size 1080x504 with 1 Axes>"
      ]
     },
     "metadata": {
      "needs_background": "light"
     },
     "output_type": "display_data"
    }
   ],
   "source": [
    "df.ceiling_height.plot(style=\"ro\", figsize=(15,7), alpha=0.5, title='Высота потолков')\n",
    "plt.show()"
   ]
  },
  {
   "cell_type": "markdown",
   "metadata": {},
   "source": [
    "Аномальных значений не так много, в основной массе высота потолков приблизительно равняется 2-3 метрам. Изучим выбросы подробнее, т.е. наблюдения, где высота потолков больше 20м."
   ]
  },
  {
   "cell_type": "code",
   "execution_count": 12,
   "metadata": {},
   "outputs": [
    {
     "data": {
      "text/html": [
       "<div>\n",
       "<style scoped>\n",
       "    .dataframe tbody tr th:only-of-type {\n",
       "        vertical-align: middle;\n",
       "    }\n",
       "\n",
       "    .dataframe tbody tr th {\n",
       "        vertical-align: top;\n",
       "    }\n",
       "\n",
       "    .dataframe thead th {\n",
       "        text-align: right;\n",
       "    }\n",
       "</style>\n",
       "<table border=\"1\" class=\"dataframe\">\n",
       "  <thead>\n",
       "    <tr style=\"text-align: right;\">\n",
       "      <th></th>\n",
       "      <th>total_images</th>\n",
       "      <th>last_price</th>\n",
       "      <th>total_area</th>\n",
       "      <th>first_day_exposition</th>\n",
       "      <th>rooms</th>\n",
       "      <th>ceiling_height</th>\n",
       "      <th>floors_total</th>\n",
       "      <th>living_area</th>\n",
       "      <th>floor</th>\n",
       "      <th>is_apartment</th>\n",
       "      <th>...</th>\n",
       "      <th>kitchen_area</th>\n",
       "      <th>balcony</th>\n",
       "      <th>locality_name</th>\n",
       "      <th>airports_nearest</th>\n",
       "      <th>cityCenters_nearest</th>\n",
       "      <th>parks_around3000</th>\n",
       "      <th>parks_nearest</th>\n",
       "      <th>ponds_around3000</th>\n",
       "      <th>ponds_nearest</th>\n",
       "      <th>days_exposition</th>\n",
       "    </tr>\n",
       "  </thead>\n",
       "  <tbody>\n",
       "    <tr>\n",
       "      <td>355</td>\n",
       "      <td>17</td>\n",
       "      <td>3600000.0</td>\n",
       "      <td>55.2</td>\n",
       "      <td>2018-07-12T00:00:00</td>\n",
       "      <td>2</td>\n",
       "      <td>25.0</td>\n",
       "      <td>5.0</td>\n",
       "      <td>32.0</td>\n",
       "      <td>2</td>\n",
       "      <td>False</td>\n",
       "      <td>...</td>\n",
       "      <td>NaN</td>\n",
       "      <td>2.0</td>\n",
       "      <td>Гатчина</td>\n",
       "      <td>NaN</td>\n",
       "      <td>NaN</td>\n",
       "      <td>NaN</td>\n",
       "      <td>NaN</td>\n",
       "      <td>NaN</td>\n",
       "      <td>NaN</td>\n",
       "      <td>259.0</td>\n",
       "    </tr>\n",
       "    <tr>\n",
       "      <td>3148</td>\n",
       "      <td>14</td>\n",
       "      <td>2900000.0</td>\n",
       "      <td>75.0</td>\n",
       "      <td>2018-11-12T00:00:00</td>\n",
       "      <td>3</td>\n",
       "      <td>32.0</td>\n",
       "      <td>3.0</td>\n",
       "      <td>53.0</td>\n",
       "      <td>2</td>\n",
       "      <td>NaN</td>\n",
       "      <td>...</td>\n",
       "      <td>8.0</td>\n",
       "      <td>NaN</td>\n",
       "      <td>Волхов</td>\n",
       "      <td>NaN</td>\n",
       "      <td>NaN</td>\n",
       "      <td>NaN</td>\n",
       "      <td>NaN</td>\n",
       "      <td>NaN</td>\n",
       "      <td>NaN</td>\n",
       "      <td>NaN</td>\n",
       "    </tr>\n",
       "    <tr>\n",
       "      <td>4643</td>\n",
       "      <td>0</td>\n",
       "      <td>4300000.0</td>\n",
       "      <td>45.0</td>\n",
       "      <td>2018-02-01T00:00:00</td>\n",
       "      <td>2</td>\n",
       "      <td>25.0</td>\n",
       "      <td>9.0</td>\n",
       "      <td>30.0</td>\n",
       "      <td>2</td>\n",
       "      <td>NaN</td>\n",
       "      <td>...</td>\n",
       "      <td>7.0</td>\n",
       "      <td>1.0</td>\n",
       "      <td>Санкт-Петербург</td>\n",
       "      <td>12016.0</td>\n",
       "      <td>13256.0</td>\n",
       "      <td>1.0</td>\n",
       "      <td>658.0</td>\n",
       "      <td>1.0</td>\n",
       "      <td>331.0</td>\n",
       "      <td>181.0</td>\n",
       "    </tr>\n",
       "    <tr>\n",
       "      <td>4876</td>\n",
       "      <td>7</td>\n",
       "      <td>3000000.0</td>\n",
       "      <td>25.0</td>\n",
       "      <td>2017-09-27T00:00:00</td>\n",
       "      <td>0</td>\n",
       "      <td>27.0</td>\n",
       "      <td>25.0</td>\n",
       "      <td>17.0</td>\n",
       "      <td>17</td>\n",
       "      <td>NaN</td>\n",
       "      <td>...</td>\n",
       "      <td>NaN</td>\n",
       "      <td>2.0</td>\n",
       "      <td>посёлок Мурино</td>\n",
       "      <td>NaN</td>\n",
       "      <td>NaN</td>\n",
       "      <td>NaN</td>\n",
       "      <td>NaN</td>\n",
       "      <td>NaN</td>\n",
       "      <td>NaN</td>\n",
       "      <td>28.0</td>\n",
       "    </tr>\n",
       "    <tr>\n",
       "      <td>5076</td>\n",
       "      <td>0</td>\n",
       "      <td>3850000.0</td>\n",
       "      <td>30.5</td>\n",
       "      <td>2018-10-03T00:00:00</td>\n",
       "      <td>1</td>\n",
       "      <td>24.0</td>\n",
       "      <td>5.0</td>\n",
       "      <td>19.5</td>\n",
       "      <td>1</td>\n",
       "      <td>True</td>\n",
       "      <td>...</td>\n",
       "      <td>5.5</td>\n",
       "      <td>NaN</td>\n",
       "      <td>Санкт-Петербург</td>\n",
       "      <td>29686.0</td>\n",
       "      <td>8389.0</td>\n",
       "      <td>3.0</td>\n",
       "      <td>397.0</td>\n",
       "      <td>1.0</td>\n",
       "      <td>578.0</td>\n",
       "      <td>7.0</td>\n",
       "    </tr>\n",
       "    <tr>\n",
       "      <td>5246</td>\n",
       "      <td>0</td>\n",
       "      <td>2500000.0</td>\n",
       "      <td>54.0</td>\n",
       "      <td>2017-10-13T00:00:00</td>\n",
       "      <td>2</td>\n",
       "      <td>27.0</td>\n",
       "      <td>5.0</td>\n",
       "      <td>30.0</td>\n",
       "      <td>3</td>\n",
       "      <td>NaN</td>\n",
       "      <td>...</td>\n",
       "      <td>9.0</td>\n",
       "      <td>2.0</td>\n",
       "      <td>деревня Мины</td>\n",
       "      <td>NaN</td>\n",
       "      <td>NaN</td>\n",
       "      <td>NaN</td>\n",
       "      <td>NaN</td>\n",
       "      <td>NaN</td>\n",
       "      <td>NaN</td>\n",
       "      <td>540.0</td>\n",
       "    </tr>\n",
       "    <tr>\n",
       "      <td>5669</td>\n",
       "      <td>4</td>\n",
       "      <td>4400000.0</td>\n",
       "      <td>50.0</td>\n",
       "      <td>2017-08-08T00:00:00</td>\n",
       "      <td>2</td>\n",
       "      <td>26.0</td>\n",
       "      <td>9.0</td>\n",
       "      <td>21.3</td>\n",
       "      <td>3</td>\n",
       "      <td>NaN</td>\n",
       "      <td>...</td>\n",
       "      <td>7.0</td>\n",
       "      <td>2.0</td>\n",
       "      <td>Санкт-Петербург</td>\n",
       "      <td>28981.0</td>\n",
       "      <td>10912.0</td>\n",
       "      <td>1.0</td>\n",
       "      <td>305.0</td>\n",
       "      <td>0.0</td>\n",
       "      <td>NaN</td>\n",
       "      <td>267.0</td>\n",
       "    </tr>\n",
       "    <tr>\n",
       "      <td>6246</td>\n",
       "      <td>6</td>\n",
       "      <td>3300000.0</td>\n",
       "      <td>44.4</td>\n",
       "      <td>2019-03-25T00:00:00</td>\n",
       "      <td>2</td>\n",
       "      <td>25.0</td>\n",
       "      <td>5.0</td>\n",
       "      <td>31.3</td>\n",
       "      <td>5</td>\n",
       "      <td>NaN</td>\n",
       "      <td>...</td>\n",
       "      <td>5.7</td>\n",
       "      <td>NaN</td>\n",
       "      <td>Кронштадт</td>\n",
       "      <td>68923.0</td>\n",
       "      <td>50649.0</td>\n",
       "      <td>1.0</td>\n",
       "      <td>417.0</td>\n",
       "      <td>2.0</td>\n",
       "      <td>73.0</td>\n",
       "      <td>NaN</td>\n",
       "    </tr>\n",
       "    <tr>\n",
       "      <td>9379</td>\n",
       "      <td>5</td>\n",
       "      <td>3950000.0</td>\n",
       "      <td>42.0</td>\n",
       "      <td>2017-03-26T00:00:00</td>\n",
       "      <td>3</td>\n",
       "      <td>25.0</td>\n",
       "      <td>5.0</td>\n",
       "      <td>30.0</td>\n",
       "      <td>2</td>\n",
       "      <td>NaN</td>\n",
       "      <td>...</td>\n",
       "      <td>5.2</td>\n",
       "      <td>NaN</td>\n",
       "      <td>Санкт-Петербург</td>\n",
       "      <td>11647.0</td>\n",
       "      <td>13581.0</td>\n",
       "      <td>0.0</td>\n",
       "      <td>NaN</td>\n",
       "      <td>0.0</td>\n",
       "      <td>NaN</td>\n",
       "      <td>NaN</td>\n",
       "    </tr>\n",
       "    <tr>\n",
       "      <td>10773</td>\n",
       "      <td>8</td>\n",
       "      <td>3800000.0</td>\n",
       "      <td>58.0</td>\n",
       "      <td>2017-10-13T00:00:00</td>\n",
       "      <td>2</td>\n",
       "      <td>27.0</td>\n",
       "      <td>10.0</td>\n",
       "      <td>30.1</td>\n",
       "      <td>3</td>\n",
       "      <td>False</td>\n",
       "      <td>...</td>\n",
       "      <td>8.1</td>\n",
       "      <td>2.0</td>\n",
       "      <td>посёлок Мурино</td>\n",
       "      <td>NaN</td>\n",
       "      <td>NaN</td>\n",
       "      <td>NaN</td>\n",
       "      <td>NaN</td>\n",
       "      <td>NaN</td>\n",
       "      <td>NaN</td>\n",
       "      <td>71.0</td>\n",
       "    </tr>\n",
       "    <tr>\n",
       "      <td>11285</td>\n",
       "      <td>0</td>\n",
       "      <td>1950000.0</td>\n",
       "      <td>37.0</td>\n",
       "      <td>2019-03-20T00:00:00</td>\n",
       "      <td>1</td>\n",
       "      <td>25.0</td>\n",
       "      <td>5.0</td>\n",
       "      <td>17.0</td>\n",
       "      <td>4</td>\n",
       "      <td>False</td>\n",
       "      <td>...</td>\n",
       "      <td>9.0</td>\n",
       "      <td>2.0</td>\n",
       "      <td>Луга</td>\n",
       "      <td>NaN</td>\n",
       "      <td>NaN</td>\n",
       "      <td>NaN</td>\n",
       "      <td>NaN</td>\n",
       "      <td>NaN</td>\n",
       "      <td>NaN</td>\n",
       "      <td>18.0</td>\n",
       "    </tr>\n",
       "    <tr>\n",
       "      <td>14382</td>\n",
       "      <td>9</td>\n",
       "      <td>1700000.0</td>\n",
       "      <td>35.0</td>\n",
       "      <td>2015-12-04T00:00:00</td>\n",
       "      <td>1</td>\n",
       "      <td>25.0</td>\n",
       "      <td>5.0</td>\n",
       "      <td>20.0</td>\n",
       "      <td>2</td>\n",
       "      <td>False</td>\n",
       "      <td>...</td>\n",
       "      <td>8.0</td>\n",
       "      <td>1.0</td>\n",
       "      <td>поселок Новый Свет</td>\n",
       "      <td>NaN</td>\n",
       "      <td>NaN</td>\n",
       "      <td>NaN</td>\n",
       "      <td>NaN</td>\n",
       "      <td>NaN</td>\n",
       "      <td>NaN</td>\n",
       "      <td>206.0</td>\n",
       "    </tr>\n",
       "    <tr>\n",
       "      <td>17857</td>\n",
       "      <td>1</td>\n",
       "      <td>3900000.0</td>\n",
       "      <td>56.0</td>\n",
       "      <td>2017-12-22T00:00:00</td>\n",
       "      <td>3</td>\n",
       "      <td>27.0</td>\n",
       "      <td>5.0</td>\n",
       "      <td>33.0</td>\n",
       "      <td>4</td>\n",
       "      <td>False</td>\n",
       "      <td>...</td>\n",
       "      <td>NaN</td>\n",
       "      <td>NaN</td>\n",
       "      <td>Санкт-Петербург</td>\n",
       "      <td>41030.0</td>\n",
       "      <td>15543.0</td>\n",
       "      <td>0.0</td>\n",
       "      <td>NaN</td>\n",
       "      <td>0.0</td>\n",
       "      <td>NaN</td>\n",
       "      <td>73.0</td>\n",
       "    </tr>\n",
       "    <tr>\n",
       "      <td>18545</td>\n",
       "      <td>6</td>\n",
       "      <td>3750000.0</td>\n",
       "      <td>43.0</td>\n",
       "      <td>2019-03-18T00:00:00</td>\n",
       "      <td>2</td>\n",
       "      <td>25.0</td>\n",
       "      <td>5.0</td>\n",
       "      <td>29.0</td>\n",
       "      <td>3</td>\n",
       "      <td>False</td>\n",
       "      <td>...</td>\n",
       "      <td>NaN</td>\n",
       "      <td>NaN</td>\n",
       "      <td>Санкт-Петербург</td>\n",
       "      <td>27054.0</td>\n",
       "      <td>8033.0</td>\n",
       "      <td>1.0</td>\n",
       "      <td>540.0</td>\n",
       "      <td>0.0</td>\n",
       "      <td>NaN</td>\n",
       "      <td>12.0</td>\n",
       "    </tr>\n",
       "    <tr>\n",
       "      <td>20478</td>\n",
       "      <td>11</td>\n",
       "      <td>8000000.0</td>\n",
       "      <td>45.0</td>\n",
       "      <td>2017-07-18T00:00:00</td>\n",
       "      <td>1</td>\n",
       "      <td>27.0</td>\n",
       "      <td>4.0</td>\n",
       "      <td>22.0</td>\n",
       "      <td>2</td>\n",
       "      <td>NaN</td>\n",
       "      <td>...</td>\n",
       "      <td>10.0</td>\n",
       "      <td>1.0</td>\n",
       "      <td>Санкт-Петербург</td>\n",
       "      <td>18975.0</td>\n",
       "      <td>3246.0</td>\n",
       "      <td>0.0</td>\n",
       "      <td>NaN</td>\n",
       "      <td>3.0</td>\n",
       "      <td>449.0</td>\n",
       "      <td>429.0</td>\n",
       "    </tr>\n",
       "    <tr>\n",
       "      <td>20507</td>\n",
       "      <td>12</td>\n",
       "      <td>5950000.0</td>\n",
       "      <td>60.0</td>\n",
       "      <td>2018-02-19T00:00:00</td>\n",
       "      <td>2</td>\n",
       "      <td>22.6</td>\n",
       "      <td>14.0</td>\n",
       "      <td>35.0</td>\n",
       "      <td>11</td>\n",
       "      <td>NaN</td>\n",
       "      <td>...</td>\n",
       "      <td>13.0</td>\n",
       "      <td>1.0</td>\n",
       "      <td>Санкт-Петербург</td>\n",
       "      <td>27028.0</td>\n",
       "      <td>12570.0</td>\n",
       "      <td>0.0</td>\n",
       "      <td>NaN</td>\n",
       "      <td>0.0</td>\n",
       "      <td>NaN</td>\n",
       "      <td>40.0</td>\n",
       "    </tr>\n",
       "    <tr>\n",
       "      <td>21377</td>\n",
       "      <td>19</td>\n",
       "      <td>4900000.0</td>\n",
       "      <td>42.0</td>\n",
       "      <td>2017-04-18T00:00:00</td>\n",
       "      <td>1</td>\n",
       "      <td>27.5</td>\n",
       "      <td>24.0</td>\n",
       "      <td>37.7</td>\n",
       "      <td>19</td>\n",
       "      <td>False</td>\n",
       "      <td>...</td>\n",
       "      <td>11.0</td>\n",
       "      <td>2.0</td>\n",
       "      <td>Санкт-Петербург</td>\n",
       "      <td>42742.0</td>\n",
       "      <td>9760.0</td>\n",
       "      <td>0.0</td>\n",
       "      <td>NaN</td>\n",
       "      <td>0.0</td>\n",
       "      <td>NaN</td>\n",
       "      <td>61.0</td>\n",
       "    </tr>\n",
       "    <tr>\n",
       "      <td>21824</td>\n",
       "      <td>20</td>\n",
       "      <td>2450000.0</td>\n",
       "      <td>44.0</td>\n",
       "      <td>2019-02-12T00:00:00</td>\n",
       "      <td>2</td>\n",
       "      <td>27.0</td>\n",
       "      <td>2.0</td>\n",
       "      <td>38.0</td>\n",
       "      <td>2</td>\n",
       "      <td>False</td>\n",
       "      <td>...</td>\n",
       "      <td>8.6</td>\n",
       "      <td>2.0</td>\n",
       "      <td>городской поселок Большая Ижора</td>\n",
       "      <td>NaN</td>\n",
       "      <td>NaN</td>\n",
       "      <td>NaN</td>\n",
       "      <td>NaN</td>\n",
       "      <td>NaN</td>\n",
       "      <td>NaN</td>\n",
       "      <td>NaN</td>\n",
       "    </tr>\n",
       "    <tr>\n",
       "      <td>22336</td>\n",
       "      <td>19</td>\n",
       "      <td>9999000.0</td>\n",
       "      <td>92.4</td>\n",
       "      <td>2019-04-05T00:00:00</td>\n",
       "      <td>2</td>\n",
       "      <td>32.0</td>\n",
       "      <td>6.0</td>\n",
       "      <td>55.5</td>\n",
       "      <td>5</td>\n",
       "      <td>False</td>\n",
       "      <td>...</td>\n",
       "      <td>16.5</td>\n",
       "      <td>4.0</td>\n",
       "      <td>Санкт-Петербург</td>\n",
       "      <td>18838.0</td>\n",
       "      <td>3506.0</td>\n",
       "      <td>0.0</td>\n",
       "      <td>NaN</td>\n",
       "      <td>3.0</td>\n",
       "      <td>511.0</td>\n",
       "      <td>NaN</td>\n",
       "    </tr>\n",
       "    <tr>\n",
       "      <td>22869</td>\n",
       "      <td>0</td>\n",
       "      <td>15000000.0</td>\n",
       "      <td>25.0</td>\n",
       "      <td>2018-07-25T00:00:00</td>\n",
       "      <td>1</td>\n",
       "      <td>100.0</td>\n",
       "      <td>5.0</td>\n",
       "      <td>14.0</td>\n",
       "      <td>5</td>\n",
       "      <td>True</td>\n",
       "      <td>...</td>\n",
       "      <td>11.0</td>\n",
       "      <td>5.0</td>\n",
       "      <td>Санкт-Петербург</td>\n",
       "      <td>34963.0</td>\n",
       "      <td>8283.0</td>\n",
       "      <td>1.0</td>\n",
       "      <td>223.0</td>\n",
       "      <td>3.0</td>\n",
       "      <td>30.0</td>\n",
       "      <td>19.0</td>\n",
       "    </tr>\n",
       "    <tr>\n",
       "      <td>22938</td>\n",
       "      <td>14</td>\n",
       "      <td>4000000.0</td>\n",
       "      <td>98.0</td>\n",
       "      <td>2018-03-15T00:00:00</td>\n",
       "      <td>4</td>\n",
       "      <td>27.0</td>\n",
       "      <td>2.0</td>\n",
       "      <td>73.0</td>\n",
       "      <td>2</td>\n",
       "      <td>True</td>\n",
       "      <td>...</td>\n",
       "      <td>9.0</td>\n",
       "      <td>1.0</td>\n",
       "      <td>деревня Нижняя</td>\n",
       "      <td>NaN</td>\n",
       "      <td>NaN</td>\n",
       "      <td>NaN</td>\n",
       "      <td>NaN</td>\n",
       "      <td>NaN</td>\n",
       "      <td>NaN</td>\n",
       "      <td>27.0</td>\n",
       "    </tr>\n",
       "  </tbody>\n",
       "</table>\n",
       "<p>21 rows × 22 columns</p>\n",
       "</div>"
      ],
      "text/plain": [
       "       total_images  last_price  total_area first_day_exposition  rooms  \\\n",
       "355              17   3600000.0        55.2  2018-07-12T00:00:00      2   \n",
       "3148             14   2900000.0        75.0  2018-11-12T00:00:00      3   \n",
       "4643              0   4300000.0        45.0  2018-02-01T00:00:00      2   \n",
       "4876              7   3000000.0        25.0  2017-09-27T00:00:00      0   \n",
       "5076              0   3850000.0        30.5  2018-10-03T00:00:00      1   \n",
       "5246              0   2500000.0        54.0  2017-10-13T00:00:00      2   \n",
       "5669              4   4400000.0        50.0  2017-08-08T00:00:00      2   \n",
       "6246              6   3300000.0        44.4  2019-03-25T00:00:00      2   \n",
       "9379              5   3950000.0        42.0  2017-03-26T00:00:00      3   \n",
       "10773             8   3800000.0        58.0  2017-10-13T00:00:00      2   \n",
       "11285             0   1950000.0        37.0  2019-03-20T00:00:00      1   \n",
       "14382             9   1700000.0        35.0  2015-12-04T00:00:00      1   \n",
       "17857             1   3900000.0        56.0  2017-12-22T00:00:00      3   \n",
       "18545             6   3750000.0        43.0  2019-03-18T00:00:00      2   \n",
       "20478            11   8000000.0        45.0  2017-07-18T00:00:00      1   \n",
       "20507            12   5950000.0        60.0  2018-02-19T00:00:00      2   \n",
       "21377            19   4900000.0        42.0  2017-04-18T00:00:00      1   \n",
       "21824            20   2450000.0        44.0  2019-02-12T00:00:00      2   \n",
       "22336            19   9999000.0        92.4  2019-04-05T00:00:00      2   \n",
       "22869             0  15000000.0        25.0  2018-07-25T00:00:00      1   \n",
       "22938            14   4000000.0        98.0  2018-03-15T00:00:00      4   \n",
       "\n",
       "       ceiling_height  floors_total  living_area  floor is_apartment  ...  \\\n",
       "355              25.0           5.0         32.0      2        False  ...   \n",
       "3148             32.0           3.0         53.0      2          NaN  ...   \n",
       "4643             25.0           9.0         30.0      2          NaN  ...   \n",
       "4876             27.0          25.0         17.0     17          NaN  ...   \n",
       "5076             24.0           5.0         19.5      1         True  ...   \n",
       "5246             27.0           5.0         30.0      3          NaN  ...   \n",
       "5669             26.0           9.0         21.3      3          NaN  ...   \n",
       "6246             25.0           5.0         31.3      5          NaN  ...   \n",
       "9379             25.0           5.0         30.0      2          NaN  ...   \n",
       "10773            27.0          10.0         30.1      3        False  ...   \n",
       "11285            25.0           5.0         17.0      4        False  ...   \n",
       "14382            25.0           5.0         20.0      2        False  ...   \n",
       "17857            27.0           5.0         33.0      4        False  ...   \n",
       "18545            25.0           5.0         29.0      3        False  ...   \n",
       "20478            27.0           4.0         22.0      2          NaN  ...   \n",
       "20507            22.6          14.0         35.0     11          NaN  ...   \n",
       "21377            27.5          24.0         37.7     19        False  ...   \n",
       "21824            27.0           2.0         38.0      2        False  ...   \n",
       "22336            32.0           6.0         55.5      5        False  ...   \n",
       "22869           100.0           5.0         14.0      5         True  ...   \n",
       "22938            27.0           2.0         73.0      2         True  ...   \n",
       "\n",
       "       kitchen_area  balcony                    locality_name  \\\n",
       "355             NaN      2.0                          Гатчина   \n",
       "3148            8.0      NaN                           Волхов   \n",
       "4643            7.0      1.0                  Санкт-Петербург   \n",
       "4876            NaN      2.0                   посёлок Мурино   \n",
       "5076            5.5      NaN                  Санкт-Петербург   \n",
       "5246            9.0      2.0                     деревня Мины   \n",
       "5669            7.0      2.0                  Санкт-Петербург   \n",
       "6246            5.7      NaN                        Кронштадт   \n",
       "9379            5.2      NaN                  Санкт-Петербург   \n",
       "10773           8.1      2.0                   посёлок Мурино   \n",
       "11285           9.0      2.0                             Луга   \n",
       "14382           8.0      1.0               поселок Новый Свет   \n",
       "17857           NaN      NaN                  Санкт-Петербург   \n",
       "18545           NaN      NaN                  Санкт-Петербург   \n",
       "20478          10.0      1.0                  Санкт-Петербург   \n",
       "20507          13.0      1.0                  Санкт-Петербург   \n",
       "21377          11.0      2.0                  Санкт-Петербург   \n",
       "21824           8.6      2.0  городской поселок Большая Ижора   \n",
       "22336          16.5      4.0                  Санкт-Петербург   \n",
       "22869          11.0      5.0                  Санкт-Петербург   \n",
       "22938           9.0      1.0                   деревня Нижняя   \n",
       "\n",
       "       airports_nearest cityCenters_nearest  parks_around3000  parks_nearest  \\\n",
       "355                 NaN                 NaN               NaN            NaN   \n",
       "3148                NaN                 NaN               NaN            NaN   \n",
       "4643            12016.0             13256.0               1.0          658.0   \n",
       "4876                NaN                 NaN               NaN            NaN   \n",
       "5076            29686.0              8389.0               3.0          397.0   \n",
       "5246                NaN                 NaN               NaN            NaN   \n",
       "5669            28981.0             10912.0               1.0          305.0   \n",
       "6246            68923.0             50649.0               1.0          417.0   \n",
       "9379            11647.0             13581.0               0.0            NaN   \n",
       "10773               NaN                 NaN               NaN            NaN   \n",
       "11285               NaN                 NaN               NaN            NaN   \n",
       "14382               NaN                 NaN               NaN            NaN   \n",
       "17857           41030.0             15543.0               0.0            NaN   \n",
       "18545           27054.0              8033.0               1.0          540.0   \n",
       "20478           18975.0              3246.0               0.0            NaN   \n",
       "20507           27028.0             12570.0               0.0            NaN   \n",
       "21377           42742.0              9760.0               0.0            NaN   \n",
       "21824               NaN                 NaN               NaN            NaN   \n",
       "22336           18838.0              3506.0               0.0            NaN   \n",
       "22869           34963.0              8283.0               1.0          223.0   \n",
       "22938               NaN                 NaN               NaN            NaN   \n",
       "\n",
       "       ponds_around3000  ponds_nearest  days_exposition  \n",
       "355                 NaN            NaN            259.0  \n",
       "3148                NaN            NaN              NaN  \n",
       "4643                1.0          331.0            181.0  \n",
       "4876                NaN            NaN             28.0  \n",
       "5076                1.0          578.0              7.0  \n",
       "5246                NaN            NaN            540.0  \n",
       "5669                0.0            NaN            267.0  \n",
       "6246                2.0           73.0              NaN  \n",
       "9379                0.0            NaN              NaN  \n",
       "10773               NaN            NaN             71.0  \n",
       "11285               NaN            NaN             18.0  \n",
       "14382               NaN            NaN            206.0  \n",
       "17857               0.0            NaN             73.0  \n",
       "18545               0.0            NaN             12.0  \n",
       "20478               3.0          449.0            429.0  \n",
       "20507               0.0            NaN             40.0  \n",
       "21377               0.0            NaN             61.0  \n",
       "21824               NaN            NaN              NaN  \n",
       "22336               3.0          511.0              NaN  \n",
       "22869               3.0           30.0             19.0  \n",
       "22938               NaN            NaN             27.0  \n",
       "\n",
       "[21 rows x 22 columns]"
      ]
     },
     "execution_count": 12,
     "metadata": {},
     "output_type": "execute_result"
    }
   ],
   "source": [
    "df[df.ceiling_height > 20]"
   ]
  },
  {
   "cell_type": "markdown",
   "metadata": {},
   "source": [
    "Складывается впечатление, что эти значения являются ошибкой при наборе с клавиатуры и истинное значение меньше на порядок. Единственный выброс - 100метровый потолок, не известно, что это, поэтому имеет смысл избавиться от этого наблюдения. Хотя выбросов и не так много, можно было бы и просто исключить их из наших данных, но я предпочту их оставить и поделить значения столбца высоты потолков на 10."
   ]
  },
  {
   "cell_type": "code",
   "execution_count": 13,
   "metadata": {},
   "outputs": [],
   "source": [
    "df = df.drop([22869]) #удаляем 100метровые потолки"
   ]
  },
  {
   "cell_type": "code",
   "execution_count": 14,
   "metadata": {},
   "outputs": [],
   "source": [
    "df['ceiling_height'] = df['ceiling_height'].apply( lambda x: x if (x < 20) else x/10 ) # делим значения потолков, которые больше 20 на 10"
   ]
  },
  {
   "cell_type": "code",
   "execution_count": 15,
   "metadata": {
    "scrolled": true
   },
   "outputs": [
    {
     "data": {
      "image/png": "[encoded data removed]",
      "text/plain": [
       "<Figure size 1080x504 with 1 Axes>"
      ]
     },
     "metadata": {
      "needs_background": "light"
     },
     "output_type": "display_data"
    }
   ],
   "source": [
    "df.ceiling_height.plot(style=\"ro\", figsize=(15,7), alpha=0.5)\n",
    "plt.show()"
   ]
  },
  {
   "cell_type": "markdown",
   "metadata": {},
   "source": [
    "Дропнем аномально низкие потолки"
   ]
  },
  {
   "cell_type": "code",
   "execution_count": 16,
   "metadata": {},
   "outputs": [
    {
     "data": {
      "text/html": [
       "<div>\n",
       "<style scoped>\n",
       "    .dataframe tbody tr th:only-of-type {\n",
       "        vertical-align: middle;\n",
       "    }\n",
       "\n",
       "    .dataframe tbody tr th {\n",
       "        vertical-align: top;\n",
       "    }\n",
       "\n",
       "    .dataframe thead th {\n",
       "        text-align: right;\n",
       "    }\n",
       "</style>\n",
       "<table border=\"1\" class=\"dataframe\">\n",
       "  <thead>\n",
       "    <tr style=\"text-align: right;\">\n",
       "      <th></th>\n",
       "      <th>total_images</th>\n",
       "      <th>last_price</th>\n",
       "      <th>total_area</th>\n",
       "      <th>first_day_exposition</th>\n",
       "      <th>rooms</th>\n",
       "      <th>ceiling_height</th>\n",
       "      <th>floors_total</th>\n",
       "      <th>living_area</th>\n",
       "      <th>floor</th>\n",
       "      <th>is_apartment</th>\n",
       "      <th>...</th>\n",
       "      <th>kitchen_area</th>\n",
       "      <th>balcony</th>\n",
       "      <th>locality_name</th>\n",
       "      <th>airports_nearest</th>\n",
       "      <th>cityCenters_nearest</th>\n",
       "      <th>parks_around3000</th>\n",
       "      <th>parks_nearest</th>\n",
       "      <th>ponds_around3000</th>\n",
       "      <th>ponds_nearest</th>\n",
       "      <th>days_exposition</th>\n",
       "    </tr>\n",
       "  </thead>\n",
       "  <tbody>\n",
       "    <tr>\n",
       "      <td>5712</td>\n",
       "      <td>5</td>\n",
       "      <td>1500000.0</td>\n",
       "      <td>42.8</td>\n",
       "      <td>2017-08-14T00:00:00</td>\n",
       "      <td>2</td>\n",
       "      <td>1.20</td>\n",
       "      <td>2.0</td>\n",
       "      <td>27.5</td>\n",
       "      <td>1</td>\n",
       "      <td>NaN</td>\n",
       "      <td>...</td>\n",
       "      <td>5.20</td>\n",
       "      <td>NaN</td>\n",
       "      <td>городской посёлок Мга</td>\n",
       "      <td>NaN</td>\n",
       "      <td>NaN</td>\n",
       "      <td>NaN</td>\n",
       "      <td>NaN</td>\n",
       "      <td>NaN</td>\n",
       "      <td>NaN</td>\n",
       "      <td>248.0</td>\n",
       "    </tr>\n",
       "    <tr>\n",
       "      <td>16934</td>\n",
       "      <td>5</td>\n",
       "      <td>4100000.0</td>\n",
       "      <td>40.0</td>\n",
       "      <td>2017-10-17T00:00:00</td>\n",
       "      <td>1</td>\n",
       "      <td>1.75</td>\n",
       "      <td>37.0</td>\n",
       "      <td>17.4</td>\n",
       "      <td>5</td>\n",
       "      <td>NaN</td>\n",
       "      <td>...</td>\n",
       "      <td>8.34</td>\n",
       "      <td>NaN</td>\n",
       "      <td>Санкт-Петербург</td>\n",
       "      <td>18732.0</td>\n",
       "      <td>20444.0</td>\n",
       "      <td>0.0</td>\n",
       "      <td>NaN</td>\n",
       "      <td>3.0</td>\n",
       "      <td>80.0</td>\n",
       "      <td>71.0</td>\n",
       "    </tr>\n",
       "    <tr>\n",
       "      <td>22590</td>\n",
       "      <td>16</td>\n",
       "      <td>6000000.0</td>\n",
       "      <td>55.0</td>\n",
       "      <td>2018-10-31T00:00:00</td>\n",
       "      <td>2</td>\n",
       "      <td>1.00</td>\n",
       "      <td>12.0</td>\n",
       "      <td>32.4</td>\n",
       "      <td>7</td>\n",
       "      <td>NaN</td>\n",
       "      <td>...</td>\n",
       "      <td>10.00</td>\n",
       "      <td>NaN</td>\n",
       "      <td>Санкт-Петербург</td>\n",
       "      <td>33053.0</td>\n",
       "      <td>14217.0</td>\n",
       "      <td>2.0</td>\n",
       "      <td>293.0</td>\n",
       "      <td>2.0</td>\n",
       "      <td>289.0</td>\n",
       "      <td>13.0</td>\n",
       "    </tr>\n",
       "  </tbody>\n",
       "</table>\n",
       "<p>3 rows × 22 columns</p>\n",
       "</div>"
      ],
      "text/plain": [
       "       total_images  last_price  total_area first_day_exposition  rooms  \\\n",
       "5712              5   1500000.0        42.8  2017-08-14T00:00:00      2   \n",
       "16934             5   4100000.0        40.0  2017-10-17T00:00:00      1   \n",
       "22590            16   6000000.0        55.0  2018-10-31T00:00:00      2   \n",
       "\n",
       "       ceiling_height  floors_total  living_area  floor is_apartment  ...  \\\n",
       "5712             1.20           2.0         27.5      1          NaN  ...   \n",
       "16934            1.75          37.0         17.4      5          NaN  ...   \n",
       "22590            1.00          12.0         32.4      7          NaN  ...   \n",
       "\n",
       "       kitchen_area  balcony          locality_name  airports_nearest  \\\n",
       "5712           5.20      NaN  городской посёлок Мга               NaN   \n",
       "16934          8.34      NaN        Санкт-Петербург           18732.0   \n",
       "22590         10.00      NaN        Санкт-Петербург           33053.0   \n",
       "\n",
       "      cityCenters_nearest  parks_around3000  parks_nearest  ponds_around3000  \\\n",
       "5712                  NaN               NaN            NaN               NaN   \n",
       "16934             20444.0               0.0            NaN               3.0   \n",
       "22590             14217.0               2.0          293.0               2.0   \n",
       "\n",
       "       ponds_nearest  days_exposition  \n",
       "5712             NaN            248.0  \n",
       "16934           80.0             71.0  \n",
       "22590          289.0             13.0  \n",
       "\n",
       "[3 rows x 22 columns]"
      ]
     },
     "execution_count": 16,
     "metadata": {},
     "output_type": "execute_result"
    }
   ],
   "source": [
    "df[df.ceiling_height < 2]"
   ]
  },
  {
   "cell_type": "code",
   "execution_count": 17,
   "metadata": {},
   "outputs": [],
   "source": [
    "df = df.drop([5712])\n",
    "df = df.drop([16934])\n",
    "df = df.drop([22590])"
   ]
  },
  {
   "cell_type": "code",
   "execution_count": 18,
   "metadata": {},
   "outputs": [],
   "source": [
    "df.reset_index(inplace=True) #Дадим новые индексы"
   ]
  },
  {
   "cell_type": "code",
   "execution_count": 19,
   "metadata": {},
   "outputs": [],
   "source": [
    "df.drop(labels='index', axis=1, inplace=True)"
   ]
  },
  {
   "cell_type": "code",
   "execution_count": 20,
   "metadata": {},
   "outputs": [
    {
     "name": "stdout",
     "output_type": "stream",
     "text": [
      "Среднее по высоте потолков: 2.729396593338391\n",
      "Медиана по высоте потолков: 2.65\n"
     ]
    }
   ],
   "source": [
    "print(\"Среднее по высоте потолков:\", df.ceiling_height.mean())\n",
    "print(\"Медиана по высоте потолков:\", df.ceiling_height.median())"
   ]
  },
  {
   "cell_type": "markdown",
   "metadata": {},
   "source": [
    "###### Заполним пропущенные значения столбцов `airports_nearest` , `cityCenters_nearest` , `parks_nearest` , `ponds_nearest`  на максимальное значение по столбцу, предполагая, что данные объекты находятся очень далеко"
   ]
  },
  {
   "cell_type": "code",
   "execution_count": 21,
   "metadata": {},
   "outputs": [],
   "source": [
    "df['airports_nearest'] = df['airports_nearest'].fillna(df['airports_nearest'].max())\n",
    "df['cityCenters_nearest'] = df['cityCenters_nearest'].fillna(df['cityCenters_nearest'].max())\n",
    "df['parks_nearest'] = df['parks_nearest'].fillna(df['parks_nearest'].max())\n",
    "df['ponds_nearest'] = df['ponds_nearest'].fillna(df['ponds_nearest'].max())"
   ]
  },
  {
   "cell_type": "markdown",
   "metadata": {},
   "source": [
    "### Заполним пропущенные значения этажности"
   ]
  },
  {
   "cell_type": "code",
   "execution_count": 22,
   "metadata": {},
   "outputs": [
    {
     "name": "stdout",
     "output_type": "stream",
     "text": [
      "Пропущенных значений этажности дома: 86\n"
     ]
    }
   ],
   "source": [
    "print(\"Пропущенных значений этажности дома:\", df.floors_total.isna().sum())"
   ]
  },
  {
   "cell_type": "markdown",
   "metadata": {},
   "source": [
    "#### Создадим для этого сводную таблицу, где индексами будет выступать `расстояние до центра`, а столбцами - `расстояния до аэропорта`"
   ]
  },
  {
   "cell_type": "code",
   "execution_count": 23,
   "metadata": {},
   "outputs": [],
   "source": [
    "floors_pivot = df.pivot_table(index='cityCenters_nearest', columns='airports_nearest', values='floors_total', aggfunc='first')"
   ]
  },
  {
   "cell_type": "code",
   "execution_count": 24,
   "metadata": {},
   "outputs": [],
   "source": [
    "floors_pivot.index = floors_pivot.index.values.astype(int)\n",
    "floors_pivot.columns = floors_pivot.columns.astype(int) # Преобразуем индексы pivot_table в тип int"
   ]
  },
  {
   "cell_type": "markdown",
   "metadata": {},
   "source": [
    "###### Для этого используем цикл, пробегающий по датафрейму, где пропущены значения `этажности` дома"
   ]
  },
  {
   "cell_type": "code",
   "execution_count": 25,
   "metadata": {},
   "outputs": [
    {
     "name": "stdout",
     "output_type": "stream",
     "text": [
      "Не вышло\n",
      "Не вышло\n",
      "Не вышло\n",
      "Не вышло\n",
      "Не вышло\n",
      "Не вышло\n",
      "Не вышло\n",
      "Не вышло\n",
      "Не вышло\n",
      "Не вышло\n",
      "Не вышло\n",
      "Не вышло\n",
      "Не вышло\n"
     ]
    }
   ],
   "source": [
    "for index, row in df[df.ceiling_height.isna()].iterrows() :\n",
    "    \n",
    "    try:\n",
    "        cell = floors_pivot.loc[ (row['cityCenters_nearest']) , (row['airports_nearest']) ]\n",
    "        \n",
    "        if not(pd.isnull(cell)):                       # Проверяем не равно ли NaN значение ячейки в pivot_table\n",
    "            df.loc[index, 'floors_total'] = cell       # Заменяем пропущенное значение этажности в нашем df на значение из pivot\n",
    "    \n",
    "    except:\n",
    "        print('Не вышло') # В случае если такого дома не существует"
   ]
  },
  {
   "cell_type": "markdown",
   "metadata": {},
   "source": [
    "###### Оставшиеся 14 пропусков этажности заполним медианными значениями, не получилось заменить те значения, где нет подобного сочетания расстояний, т.е. дом не существует. Большую часть значений удалось заменить, значит многие дома встречаются как минимум дважды"
   ]
  },
  {
   "cell_type": "code",
   "execution_count": 26,
   "metadata": {},
   "outputs": [],
   "source": [
    "df.floors_total.fillna(value=df['floors_total'].median(), inplace=True)"
   ]
  },
  {
   "cell_type": "code",
   "execution_count": 27,
   "metadata": {},
   "outputs": [
    {
     "name": "stdout",
     "output_type": "stream",
     "text": [
      "Пропусков: 0\n"
     ]
    }
   ],
   "source": [
    "print(\"Пропусков:\", df.floors_total.isna().sum())"
   ]
  },
  {
   "cell_type": "markdown",
   "metadata": {},
   "source": [
    "#### Проделаем то же самое со значениями `высоты потолков`"
   ]
  },
  {
   "cell_type": "code",
   "execution_count": 28,
   "metadata": {},
   "outputs": [],
   "source": [
    "ceilings_pivot = df.pivot_table(index='cityCenters_nearest', columns='airports_nearest', values='ceiling_height', aggfunc='first')\n",
    "ceilings_pivot.index = ceilings_pivot.index.values.astype(int)\n",
    "ceilings_pivot.columns = ceilings_pivot.columns.astype(int) # Преобразуем индексы pivot_table в тип int"
   ]
  },
  {
   "cell_type": "code",
   "execution_count": 29,
   "metadata": {},
   "outputs": [],
   "source": [
    "for index, row in df[df.ceiling_height.isna()].iterrows() :\n",
    "    \n",
    "    try:\n",
    "        cell = ceilings_pivot.loc[ (row['cityCenters_nearest']) , (row['airports_nearest']) ]\n",
    "        \n",
    "        if not(pd.isnull(cell)):                       # Проверяем не равно ли NaN значение ячейки в pivot_table\n",
    "            df.loc[index, 'ceiling_height'] = cell       # Заменяем пропущенное значение этажности в нашем df на значение из pivot\n",
    "    \n",
    "    except:\n",
    "        pass # В случае если такого дома не существует"
   ]
  },
  {
   "cell_type": "code",
   "execution_count": 30,
   "metadata": {},
   "outputs": [
    {
     "data": {
      "text/plain": [
       "2907"
      ]
     },
     "execution_count": 30,
     "metadata": {},
     "output_type": "execute_result"
    }
   ],
   "source": [
    "df.ceiling_height.isna().sum()"
   ]
  },
  {
   "cell_type": "markdown",
   "metadata": {},
   "source": [
    "Таким способом нам удалось устранить более 6000 пропусков абсолютно правильными значениями"
   ]
  },
  {
   "cell_type": "markdown",
   "metadata": {},
   "source": [
    "#### Теперь, наконец, можно заполнить пропуски высоты потолков медианными значениями в зависимости от этажности дома:"
   ]
  },
  {
   "cell_type": "code",
   "execution_count": 31,
   "metadata": {},
   "outputs": [
    {
     "name": "stdout",
     "output_type": "stream",
     "text": [
      "Количество пропусков в столбце высоты потолков: 2907\n"
     ]
    }
   ],
   "source": [
    "print(\"Количество пропусков в столбце высоты потолков:\", df.ceiling_height.isna().sum())"
   ]
  },
  {
   "cell_type": "code",
   "execution_count": 32,
   "metadata": {},
   "outputs": [
    {
     "data": {
      "text/html": [
       "<div>\n",
       "<style scoped>\n",
       "    .dataframe tbody tr th:only-of-type {\n",
       "        vertical-align: middle;\n",
       "    }\n",
       "\n",
       "    .dataframe tbody tr th {\n",
       "        vertical-align: top;\n",
       "    }\n",
       "\n",
       "    .dataframe thead th {\n",
       "        text-align: right;\n",
       "    }\n",
       "</style>\n",
       "<table border=\"1\" class=\"dataframe\">\n",
       "  <thead>\n",
       "    <tr style=\"text-align: right;\">\n",
       "      <th></th>\n",
       "      <th>median_ceiling_height</th>\n",
       "    </tr>\n",
       "    <tr>\n",
       "      <th>floors_total</th>\n",
       "      <th></th>\n",
       "    </tr>\n",
       "  </thead>\n",
       "  <tbody>\n",
       "    <tr>\n",
       "      <td>1.0</td>\n",
       "      <td>2.8</td>\n",
       "    </tr>\n",
       "    <tr>\n",
       "      <td>2.0</td>\n",
       "      <td>2.7</td>\n",
       "    </tr>\n",
       "    <tr>\n",
       "      <td>3.0</td>\n",
       "      <td>2.8</td>\n",
       "    </tr>\n",
       "  </tbody>\n",
       "</table>\n",
       "</div>"
      ],
      "text/plain": [
       "              median_ceiling_height\n",
       "floors_total                       \n",
       "1.0                             2.8\n",
       "2.0                             2.7\n",
       "3.0                             2.8"
      ]
     },
     "execution_count": 32,
     "metadata": {},
     "output_type": "execute_result"
    }
   ],
   "source": [
    "floors_ceiling_height = df.pivot_table(index='floors_total', values='ceiling_height', aggfunc='median')\n",
    "floors_ceiling_height.columns = ['median_ceiling_height']\n",
    "floors_ceiling_height.head(3)"
   ]
  },
  {
   "cell_type": "code",
   "execution_count": 33,
   "metadata": {},
   "outputs": [
    {
     "data": {
      "text/plain": [
       "2.700    10\n",
       "2.750     7\n",
       "2.600     3\n",
       "2.650     3\n",
       "2.800     3\n",
       "3.000     3\n",
       "2.550     2\n",
       "2.880     1\n",
       "2.710     1\n",
       "2.755     1\n",
       "Name: median_ceiling_height, dtype: int64"
      ]
     },
     "execution_count": 33,
     "metadata": {},
     "output_type": "execute_result"
    }
   ],
   "source": [
    "floors_ceiling_height['median_ceiling_height'].value_counts()"
   ]
  },
  {
   "cell_type": "code",
   "execution_count": 34,
   "metadata": {},
   "outputs": [],
   "source": [
    "def ceiling_height_imputer(row):\n",
    "    \"\"\"\n",
    "    Функция берет на вход значение этажей в доме и заполняет пропущенное значение \n",
    "    высоты потолков на медианное, посчитанное в floors_ceiling_height\n",
    "    \"\"\"\n",
    "    floors = row['floors_total']\n",
    "    if floors in floors_ceiling_height.index.values:\n",
    "        ceiling_height = floors_ceiling_height.loc[floors, 'median_ceiling_height']\n",
    "        if pd.isnull(row['ceiling_height']):\n",
    "            return ceiling_height\n",
    "    return row['ceiling_height']"
   ]
  },
  {
   "cell_type": "code",
   "execution_count": 35,
   "metadata": {},
   "outputs": [],
   "source": [
    "df['ceiling_height'] = df.apply(ceiling_height_imputer, axis=1)"
   ]
  },
  {
   "cell_type": "code",
   "execution_count": 36,
   "metadata": {},
   "outputs": [
    {
     "name": "stdout",
     "output_type": "stream",
     "text": [
      "Количество пропусков в столбце высоты потолков: 0\n"
     ]
    }
   ],
   "source": [
    "print(\"Количество пропусков в столбце высоты потолков:\", df.ceiling_height.isna().sum())"
   ]
  },
  {
   "cell_type": "markdown",
   "metadata": {},
   "source": [
    "### Заполним оставшиеся пропуски\n"
   ]
  },
  {
   "cell_type": "code",
   "execution_count": 37,
   "metadata": {},
   "outputs": [],
   "source": [
    "df.fillna( \n",
    "    value =     \n",
    "                {\n",
    "                 'living_area' : df['living_area'].median(),   # Заполним пропуски в столбце жилой и кухонной\n",
    "                 'kitchen_area' : df['kitchen_area'].median(), # площади на медианное значение\n",
    "                 'is_apartment' : False,                       # Заполним пропуски на False в столбце is_apartment\n",
    "                 'balcony' : 0,                             \n",
    "                 'parks_around3000' : 0,\n",
    "                 'ponds_around3000' : 0,\n",
    "                 'locality_name' : \" \",                        # Заполним пропущенные значения locality_name на пустую строку\n",
    "                 }, \n",
    "          \n",
    "                  inplace=True )"
   ]
  },
  {
   "cell_type": "markdown",
   "metadata": {},
   "source": [
    "### Единственными пропущенными значениями остались `количество дней`, которые квартира находилась на продаже"
   ]
  },
  {
   "cell_type": "markdown",
   "metadata": {},
   "source": [
    "##### Заполнять их будем в соответствии с ценой (из предположения, чем дороже кв. - тем дольше она продается)"
   ]
  },
  {
   "cell_type": "markdown",
   "metadata": {},
   "source": [
    "Добавим столбец децилей `last_price` в наш df "
   ]
  },
  {
   "cell_type": "code",
   "execution_count": 38,
   "metadata": {},
   "outputs": [],
   "source": [
    "df['price_deciles'] = pd.DataFrame(pd.qcut(df['last_price'], q=10))"
   ]
  },
  {
   "cell_type": "code",
   "execution_count": 39,
   "metadata": {},
   "outputs": [],
   "source": [
    "def fill_na_days_exposition(row):\n",
    "    days = row['days_exposition']\n",
    "    price = row['last_price']\n",
    "    concrete_decile = row['price_deciles']\n",
    "    if (pd.isnull(days)):\n",
    "        return df[df['price_deciles'] == concrete_decile]['days_exposition'].median()\n",
    "        # Заполняем медианой в соответствии с ценовым диапазоном\n",
    "    return days"
   ]
  },
  {
   "cell_type": "code",
   "execution_count": 40,
   "metadata": {},
   "outputs": [],
   "source": [
    "df['days_exposition'] = df.apply(fill_na_days_exposition, axis=1)"
   ]
  },
  {
   "cell_type": "code",
   "execution_count": 41,
   "metadata": {
    "scrolled": false
   },
   "outputs": [
    {
     "data": {
      "image/png": "[encoded data removed]",
      "text/plain": [
       "<Figure size 1080x504 with 1 Axes>"
      ]
     },
     "metadata": {
      "needs_background": "light"
     },
     "output_type": "display_data"
    }
   ],
   "source": [
    "df.days_exposition.plot(style=\"ro\", figsize=(15,7), alpha=0.1, title='Дней на продаже')\n",
    "plt.show()"
   ]
  },
  {
   "cell_type": "markdown",
   "metadata": {},
   "source": [
    "######  Отметим большое количество выбросов, хотя основная доля данных лежит в промежутке от ~0 до ~200"
   ]
  },
  {
   "cell_type": "code",
   "execution_count": 114,
   "metadata": {},
   "outputs": [
    {
     "data": {
      "text/plain": [
       "0"
      ]
     },
     "execution_count": 114,
     "metadata": {},
     "output_type": "execute_result"
    }
   ],
   "source": [
    "df.days_exposition.isna().sum() # Пропусков нет"
   ]
  },
  {
   "cell_type": "markdown",
   "metadata": {},
   "source": [
    "#### Убедимся, что мы успешно избавились от всех пропущенных значений"
   ]
  },
  {
   "cell_type": "code",
   "execution_count": 115,
   "metadata": {},
   "outputs": [
    {
     "name": "stdout",
     "output_type": "stream",
     "text": [
      "Суммарное кол-во пропусков в датафрейме: 0\n"
     ]
    }
   ],
   "source": [
    "print(\"Суммарное кол-во пропусков в датафрейме:\" ,df.isna().sum().sum() )"
   ]
  },
  {
   "cell_type": "markdown",
   "metadata": {},
   "source": [
    "### Обработаем столбец с `временем`"
   ]
  },
  {
   "cell_type": "code",
   "execution_count": 44,
   "metadata": {},
   "outputs": [],
   "source": [
    "df['first_day_exposition'] = pd.to_datetime(df['first_day_exposition'], format='%Y-%m-%dT%H:%M:%S')"
   ]
  },
  {
   "cell_type": "code",
   "execution_count": 45,
   "metadata": {
    "scrolled": true
   },
   "outputs": [
    {
     "data": {
      "text/html": [
       "<div>\n",
       "<style scoped>\n",
       "    .dataframe tbody tr th:only-of-type {\n",
       "        vertical-align: middle;\n",
       "    }\n",
       "\n",
       "    .dataframe tbody tr th {\n",
       "        vertical-align: top;\n",
       "    }\n",
       "\n",
       "    .dataframe thead th {\n",
       "        text-align: right;\n",
       "    }\n",
       "</style>\n",
       "<table border=\"1\" class=\"dataframe\">\n",
       "  <thead>\n",
       "    <tr style=\"text-align: right;\">\n",
       "      <th></th>\n",
       "      <th>total_images</th>\n",
       "      <th>last_price</th>\n",
       "      <th>total_area</th>\n",
       "      <th>first_day_exposition</th>\n",
       "      <th>rooms</th>\n",
       "      <th>ceiling_height</th>\n",
       "      <th>floors_total</th>\n",
       "      <th>living_area</th>\n",
       "      <th>floor</th>\n",
       "      <th>is_apartment</th>\n",
       "      <th>...</th>\n",
       "      <th>balcony</th>\n",
       "      <th>locality_name</th>\n",
       "      <th>airports_nearest</th>\n",
       "      <th>cityCenters_nearest</th>\n",
       "      <th>parks_around3000</th>\n",
       "      <th>parks_nearest</th>\n",
       "      <th>ponds_around3000</th>\n",
       "      <th>ponds_nearest</th>\n",
       "      <th>days_exposition</th>\n",
       "      <th>price_deciles</th>\n",
       "    </tr>\n",
       "  </thead>\n",
       "  <tbody>\n",
       "    <tr>\n",
       "      <td>0</td>\n",
       "      <td>20</td>\n",
       "      <td>13000000.0</td>\n",
       "      <td>108.0</td>\n",
       "      <td>2019-03-07</td>\n",
       "      <td>3</td>\n",
       "      <td>2.700</td>\n",
       "      <td>16.0</td>\n",
       "      <td>51.0</td>\n",
       "      <td>8</td>\n",
       "      <td>False</td>\n",
       "      <td>...</td>\n",
       "      <td>0.0</td>\n",
       "      <td>Санкт-Петербург</td>\n",
       "      <td>18863.0</td>\n",
       "      <td>16028.0</td>\n",
       "      <td>1.0</td>\n",
       "      <td>482.0</td>\n",
       "      <td>2.0</td>\n",
       "      <td>755.0</td>\n",
       "      <td>161.0</td>\n",
       "      <td>(10907440.0, 763000000.0]</td>\n",
       "    </tr>\n",
       "    <tr>\n",
       "      <td>1</td>\n",
       "      <td>7</td>\n",
       "      <td>3350000.0</td>\n",
       "      <td>40.4</td>\n",
       "      <td>2018-12-04</td>\n",
       "      <td>1</td>\n",
       "      <td>2.755</td>\n",
       "      <td>11.0</td>\n",
       "      <td>18.6</td>\n",
       "      <td>1</td>\n",
       "      <td>False</td>\n",
       "      <td>...</td>\n",
       "      <td>2.0</td>\n",
       "      <td>посёлок Шушары</td>\n",
       "      <td>12817.0</td>\n",
       "      <td>18603.0</td>\n",
       "      <td>0.0</td>\n",
       "      <td>3190.0</td>\n",
       "      <td>0.0</td>\n",
       "      <td>1344.0</td>\n",
       "      <td>81.0</td>\n",
       "      <td>(3190000.0, 3650000.0]</td>\n",
       "    </tr>\n",
       "    <tr>\n",
       "      <td>2</td>\n",
       "      <td>10</td>\n",
       "      <td>5196000.0</td>\n",
       "      <td>56.0</td>\n",
       "      <td>2015-08-20</td>\n",
       "      <td>2</td>\n",
       "      <td>2.550</td>\n",
       "      <td>5.0</td>\n",
       "      <td>34.3</td>\n",
       "      <td>4</td>\n",
       "      <td>False</td>\n",
       "      <td>...</td>\n",
       "      <td>0.0</td>\n",
       "      <td>Санкт-Петербург</td>\n",
       "      <td>21741.0</td>\n",
       "      <td>13933.0</td>\n",
       "      <td>1.0</td>\n",
       "      <td>90.0</td>\n",
       "      <td>2.0</td>\n",
       "      <td>574.0</td>\n",
       "      <td>558.0</td>\n",
       "      <td>(4650000.0, 5295000.0]</td>\n",
       "    </tr>\n",
       "  </tbody>\n",
       "</table>\n",
       "<p>3 rows × 23 columns</p>\n",
       "</div>"
      ],
      "text/plain": [
       "   total_images  last_price  total_area first_day_exposition  rooms  \\\n",
       "0            20  13000000.0       108.0           2019-03-07      3   \n",
       "1             7   3350000.0        40.4           2018-12-04      1   \n",
       "2            10   5196000.0        56.0           2015-08-20      2   \n",
       "\n",
       "   ceiling_height  floors_total  living_area  floor  is_apartment  ...  \\\n",
       "0           2.700          16.0         51.0      8         False  ...   \n",
       "1           2.755          11.0         18.6      1         False  ...   \n",
       "2           2.550           5.0         34.3      4         False  ...   \n",
       "\n",
       "   balcony    locality_name  airports_nearest  cityCenters_nearest  \\\n",
       "0      0.0  Санкт-Петербург           18863.0              16028.0   \n",
       "1      2.0   посёлок Шушары           12817.0              18603.0   \n",
       "2      0.0  Санкт-Петербург           21741.0              13933.0   \n",
       "\n",
       "  parks_around3000  parks_nearest  ponds_around3000  ponds_nearest  \\\n",
       "0              1.0          482.0               2.0          755.0   \n",
       "1              0.0         3190.0               0.0         1344.0   \n",
       "2              1.0           90.0               2.0          574.0   \n",
       "\n",
       "   days_exposition              price_deciles  \n",
       "0            161.0  (10907440.0, 763000000.0]  \n",
       "1             81.0     (3190000.0, 3650000.0]  \n",
       "2            558.0     (4650000.0, 5295000.0]  \n",
       "\n",
       "[3 rows x 23 columns]"
      ]
     },
     "execution_count": 45,
     "metadata": {},
     "output_type": "execute_result"
    }
   ],
   "source": [
    "df.head(3)"
   ]
  },
  {
   "cell_type": "markdown",
   "metadata": {},
   "source": [
    "### Преобразуем типы данных"
   ]
  },
  {
   "cell_type": "code",
   "execution_count": 47,
   "metadata": {},
   "outputs": [],
   "source": [
    "df['last_price'] = df['last_price'].astype(int)\n",
    "df['floors_total'] = df.floors_total.astype(int)\n",
    "df['parks_around3000'] = df['parks_around3000'].astype(int)\n",
    "df['ponds_around3000'] = df['ponds_around3000'].astype(int)\n",
    "df['balcony'] = df['balcony'].astype(int)\n",
    "df['days_exposition'] = df['days_exposition'].astype(int)\n",
    "df['cityCenters_nearest'] = df['cityCenters_nearest'].astype(int)"
   ]
  },
  {
   "cell_type": "code",
   "execution_count": 48,
   "metadata": {
    "scrolled": true
   },
   "outputs": [
    {
     "name": "stdout",
     "output_type": "stream",
     "text": [
      "<class 'pandas.core.frame.DataFrame'>\n",
      "RangeIndex: 23695 entries, 0 to 23694\n",
      "Data columns (total 23 columns):\n",
      "total_images            23695 non-null int64\n",
      "last_price              23695 non-null int64\n",
      "total_area              23695 non-null float64\n",
      "first_day_exposition    23695 non-null datetime64[ns]\n",
      "rooms                   23695 non-null int64\n",
      "ceiling_height          23695 non-null float64\n",
      "floors_total            23695 non-null int64\n",
      "living_area             23695 non-null float64\n",
      "floor                   23695 non-null int64\n",
      "is_apartment            23695 non-null bool\n",
      "studio                  23695 non-null bool\n",
      "open_plan               23695 non-null bool\n",
      "kitchen_area            23695 non-null float64\n",
      "balcony                 23695 non-null int64\n",
      "locality_name           23695 non-null object\n",
      "airports_nearest        23695 non-null float64\n",
      "cityCenters_nearest     23695 non-null int64\n",
      "parks_around3000        23695 non-null int64\n",
      "parks_nearest           23695 non-null float64\n",
      "ponds_around3000        23695 non-null int64\n",
      "ponds_nearest           23695 non-null float64\n",
      "days_exposition         23695 non-null int64\n",
      "price_deciles           23695 non-null object\n",
      "dtypes: bool(3), datetime64[ns](1), float64(7), int64(10), object(2)\n",
      "memory usage: 3.7+ MB\n"
     ]
    }
   ],
   "source": [
    "df.info()"
   ]
  },
  {
   "cell_type": "markdown",
   "metadata": {},
   "source": [
    "### Рассмотрим столбец `rooms` , так как в нем встречаются квартиры с 0 комнат"
   ]
  },
  {
   "cell_type": "code",
   "execution_count": 49,
   "metadata": {},
   "outputs": [
    {
     "data": {
      "text/plain": [
       "38.30     1\n",
       "42.10     1\n",
       "42.63     1\n",
       "43.30     1\n",
       "44.20     1\n",
       "58.40     1\n",
       "71.00     1\n",
       "73.60     1\n",
       "98.40     1\n",
       "371.00    1\n",
       "Name: total_area, dtype: int64"
      ]
     },
     "execution_count": 49,
     "metadata": {},
     "output_type": "execute_result"
    }
   ],
   "source": [
    "df[df.rooms == 0]['total_area'].value_counts().sort_index().tail(10)"
   ]
  },
  {
   "cell_type": "markdown",
   "metadata": {},
   "source": [
    "Скорее всего это пропуски при заполнении данных, заменим количество комнат для квартир площадью менее 45 кв.м. на 1, для тех у которых меньше 100 кв.м. на 2, для остальных - на 5 "
   ]
  },
  {
   "cell_type": "code",
   "execution_count": 50,
   "metadata": {},
   "outputs": [],
   "source": [
    "def rooms_imputer(row):\n",
    "    if row['rooms'] == 0:\n",
    "        if row['total_area'] < 45:\n",
    "            return 1\n",
    "        if row['total_area'] < 100:\n",
    "            return 2\n",
    "        return 5\n",
    "    return row['rooms']"
   ]
  },
  {
   "cell_type": "code",
   "execution_count": 51,
   "metadata": {},
   "outputs": [],
   "source": [
    "df['rooms'] = df.apply(rooms_imputer, axis=1)"
   ]
  },
  {
   "cell_type": "markdown",
   "metadata": {},
   "source": [
    "### Проверим количество дупликатов:"
   ]
  },
  {
   "cell_type": "code",
   "execution_count": 53,
   "metadata": {},
   "outputs": [
    {
     "name": "stdout",
     "output_type": "stream",
     "text": [
      "Количество дупликатов: 0\n"
     ]
    }
   ],
   "source": [
    "print(\"Количество дупликатов:\", df.duplicated().sum())"
   ]
  },
  {
   "cell_type": "markdown",
   "metadata": {},
   "source": [
    "# Вывод"
   ]
  },
  {
   "cell_type": "markdown",
   "metadata": {},
   "source": [
    ">На данном этапе мы произвели множественные замены пропущенных значений. Для многих квартир отсутствовали значения `этажности` или `высоты потолков` - многие из них нам удалось восстановить из имеющихся данных, поскольку дома в датасете повторяются. \n",
    "Для пропущенных значений расстояний была применена стратегия заполнения по максимальному значению в столбце.\n",
    "Произвели частичную очистку данных от выбросов.\n",
    "Количественные параметры: `living_area` , `kitchen_area` были заменены на медианные. \n",
    "Также преобразованы типы данных: из строковых в формат даты, из чисел с плавающей точкой в целочисленный. \n",
    "Длительность продажи была заполнена медианными значениями в зависимости от стоимости квартиры.\n",
    "Нулевое количество комнат было заменено в соответствии с площадью квартиры. Дупликатов в данных не обнаружилось."
   ]
  },
  {
   "cell_type": "markdown",
   "metadata": {},
   "source": [
    "### Шаг 3. Посчитайте и добавьте в таблицу"
   ]
  },
  {
   "cell_type": "markdown",
   "metadata": {},
   "source": [
    "###### Добавим цену за кв. метр. в таблицу"
   ]
  },
  {
   "cell_type": "code",
   "execution_count": 54,
   "metadata": {},
   "outputs": [],
   "source": [
    "df['price_for_square_meter'] = df['last_price'] / df['total_area']"
   ]
  },
  {
   "cell_type": "markdown",
   "metadata": {},
   "source": [
    "###### Добавим столбцы с днем недели, месяцем и годом"
   ]
  },
  {
   "cell_type": "code",
   "execution_count": 55,
   "metadata": {},
   "outputs": [],
   "source": [
    "df['weekday'] = df['first_day_exposition'].dt.weekday"
   ]
  },
  {
   "cell_type": "code",
   "execution_count": 56,
   "metadata": {},
   "outputs": [],
   "source": [
    "df['month'] = df['first_day_exposition'].dt.month"
   ]
  },
  {
   "cell_type": "code",
   "execution_count": 57,
   "metadata": {},
   "outputs": [],
   "source": [
    "df['year'] = df['first_day_exposition'].dt.year"
   ]
  },
  {
   "cell_type": "markdown",
   "metadata": {},
   "source": [
    "###### Столбец с этажом: первый, последний, другой"
   ]
  },
  {
   "cell_type": "code",
   "execution_count": 58,
   "metadata": {},
   "outputs": [],
   "source": [
    "def flat_floor(row):\n",
    "    if row['floor'] == 1:\n",
    "        return 'первый'\n",
    "    if row['floor'] == row['floors_total']:\n",
    "        return 'последний'\n",
    "    return 'другой'"
   ]
  },
  {
   "cell_type": "code",
   "execution_count": 59,
   "metadata": {},
   "outputs": [],
   "source": [
    "df['floor_category'] = df.apply(flat_floor, axis=1)"
   ]
  },
  {
   "cell_type": "code",
   "execution_count": 60,
   "metadata": {},
   "outputs": [
    {
     "data": {
      "text/plain": [
       "другой       17844\n",
       "последний     2935\n",
       "первый        2916\n",
       "Name: floor_category, dtype: int64"
      ]
     },
     "execution_count": 60,
     "metadata": {},
     "output_type": "execute_result"
    }
   ],
   "source": [
    "df.floor_category.value_counts() "
   ]
  },
  {
   "cell_type": "markdown",
   "metadata": {},
   "source": [
    "первых и последних этажей примерно одинаковое количество"
   ]
  },
  {
   "cell_type": "markdown",
   "metadata": {},
   "source": [
    "###### Добавим отношение жилой площади к общей"
   ]
  },
  {
   "cell_type": "code",
   "execution_count": 61,
   "metadata": {},
   "outputs": [],
   "source": [
    "df['living_to_total'] = df.living_area / df.total_area"
   ]
  },
  {
   "cell_type": "markdown",
   "metadata": {},
   "source": [
    "###### Добавим отношение площади кухни к общей"
   ]
  },
  {
   "cell_type": "code",
   "execution_count": 62,
   "metadata": {},
   "outputs": [],
   "source": [
    "df['kitchen_to_total'] = df.kitchen_area / df.total_area"
   ]
  },
  {
   "cell_type": "markdown",
   "metadata": {},
   "source": [
    "### Шаг 4. Проведите исследовательский анализ данных и выполните инструкции:"
   ]
  },
  {
   "cell_type": "markdown",
   "metadata": {},
   "source": [
    "#### Построим гистограммы распределения  `Общей площади`  ,  `Цены`  ,  `Комнат`  ,  `Высоты потолков`"
   ]
  },
  {
   "cell_type": "code",
   "execution_count": 63,
   "metadata": {},
   "outputs": [
    {
     "data": {
      "image/png": "[encoded data removed]",
      "text/plain": [
       "<Figure size 576x432 with 1 Axes>"
      ]
     },
     "metadata": {
      "needs_background": "light"
     },
     "output_type": "display_data"
    },
    {
     "data": {
      "image/png": "[encoded data removed]",
      "text/plain": [
       "<Figure size 576x432 with 1 Axes>"
      ]
     },
     "metadata": {
      "needs_background": "light"
     },
     "output_type": "display_data"
    },
    {
     "data": {
      "image/png": "[encoded data removed]",
      "text/plain": [
       "<Figure size 576x432 with 1 Axes>"
      ]
     },
     "metadata": {
      "needs_background": "light"
     },
     "output_type": "display_data"
    },
    {
     "data": {
      "image/png": "[encoded data removed]",
      "text/plain": [
       "<Figure size 576x432 with 1 Axes>"
      ]
     },
     "metadata": {
      "needs_background": "light"
     },
     "output_type": "display_data"
    }
   ],
   "source": [
    "df.plot(y='total_area', kind='hist', density=True, bins=200, xlim=(0,500), figsize=(8,6), title='Общая площадь')\n",
    "df.plot(y='last_price', kind='hist', density=True, bins=1000, xlim=(12190,40000000.0), figsize=(8,6), title='Стоимость')\n",
    "df.plot(y='rooms', kind='hist', density=True, bins=10, range=(1, 5), figsize=(8,6), title='Число комнат')\n",
    "df.plot(y='ceiling_height', kind='hist', bins=50, range=(2.5, 4), density=True, figsize=(8,6), title='Высота потолков')\n",
    "plt.show()"
   ]
  },
  {
   "cell_type": "code",
   "execution_count": 118,
   "metadata": {},
   "outputs": [
    {
     "name": "stdout",
     "output_type": "stream",
     "text": [
      "Медианное значение площади: 52.0\n"
     ]
    }
   ],
   "source": [
    "print(\"Медианное значение площади:\", df.total_area.median() )"
   ]
  },
  {
   "cell_type": "code",
   "execution_count": 117,
   "metadata": {},
   "outputs": [
    {
     "name": "stdout",
     "output_type": "stream",
     "text": [
      "Медианное значение цены: 4650000.0\n"
     ]
    }
   ],
   "source": [
    "print(\"Медианное значение цены:\", df.last_price.median() )"
   ]
  },
  {
   "cell_type": "code",
   "execution_count": 116,
   "metadata": {},
   "outputs": [
    {
     "name": "stdout",
     "output_type": "stream",
     "text": [
      "Медианное значение высоты потолков: 2.7\n"
     ]
    }
   ],
   "source": [
    "print(\"Медианное значение высоты потолков:\", df.ceiling_height.median() )"
   ]
  },
  {
   "cell_type": "markdown",
   "metadata": {},
   "source": [
    "### Вывод"
   ]
  },
  {
   "cell_type": "markdown",
   "metadata": {},
   "source": [
    ">Медианное значение площади - 50 кв.м., распределение имеет вид Пуассоновского с пиком около 40 кв.м. Медианная стоимость квартиры составляет 4.6 млн. Наибольшее количество квартир однокомнатные, хотя двухкомнатных всего лишь немногим меньше. Высота потолков составляет 2.7 метра."
   ]
  },
  {
   "cell_type": "markdown",
   "metadata": {},
   "source": [
    "#### Рассмотрим распределение времени продаж"
   ]
  },
  {
   "cell_type": "code",
   "execution_count": 64,
   "metadata": {},
   "outputs": [
    {
     "data": {
      "image/png": "[encoded data removed]",
      "text/plain": [
       "<Figure size 1152x576 with 1 Axes>"
      ]
     },
     "metadata": {
      "needs_background": "light"
     },
     "output_type": "display_data"
    }
   ],
   "source": [
    "data.plot(y='days_exposition', kind='hist', bins=100, figsize=(16,8), xlim=(0,500), title='Время продажи')\n",
    "plt.show()"
   ]
  },
  {
   "cell_type": "code",
   "execution_count": 65,
   "metadata": {
    "scrolled": true
   },
   "outputs": [
    {
     "data": {
      "text/plain": [
       "count    20518.000000\n",
       "mean       180.888634\n",
       "std        219.727988\n",
       "min          1.000000\n",
       "25%         45.000000\n",
       "50%         95.000000\n",
       "75%        232.000000\n",
       "max       1580.000000\n",
       "Name: days_exposition, dtype: float64"
      ]
     },
     "execution_count": 65,
     "metadata": {},
     "output_type": "execute_result"
    }
   ],
   "source": [
    "data.days_exposition.describe()"
   ]
  },
  {
   "cell_type": "markdown",
   "metadata": {},
   "source": [
    "#### Медианное значение времени продажи квартиры составляет 95 дней, среднее - 180 , что говорит о наличии сильных выбросов"
   ]
  },
  {
   "cell_type": "code",
   "execution_count": 120,
   "metadata": {},
   "outputs": [
    {
     "data": {
      "text/plain": [
       "365.0     17\n",
       "366.0     14\n",
       "367.0     13\n",
       "368.0      8\n",
       "369.0     12\n",
       "          ..\n",
       "1512.0     2\n",
       "1513.0     1\n",
       "1553.0     1\n",
       "1572.0     1\n",
       "1580.0     1\n",
       "Name: days_exposition, Length: 777, dtype: int64"
      ]
     },
     "execution_count": 120,
     "metadata": {},
     "output_type": "execute_result"
    }
   ],
   "source": [
    "data.days_exposition.value_counts().sort_index().tail(777) # 777 и больше выбросов"
   ]
  },
  {
   "cell_type": "markdown",
   "metadata": {},
   "source": [
    "#### Будем считать продажу быстрой, если она уложилась в неделю, и медленной, если она длилась более года"
   ]
  },
  {
   "cell_type": "code",
   "execution_count": 122,
   "metadata": {},
   "outputs": [],
   "source": [
    "good_exposition_data = data.query('7<days_exposition<366')['days_exposition'] # избавляемся от выбросов и аномальных \n",
    "                                                                              # по скорости продаж\n",
    "good_exposition_data = good_exposition_data.astype(int)"
   ]
  },
  {
   "cell_type": "code",
   "execution_count": 123,
   "metadata": {},
   "outputs": [
    {
     "data": {
      "image/png": "[encoded data removed]",
      "text/plain": [
       "<Figure size 432x288 with 1 Axes>"
      ]
     },
     "metadata": {
      "needs_background": "light"
     },
     "output_type": "display_data"
    }
   ],
   "source": [
    "good_exposition_data.plot(kind='hist', bins=200)\n",
    "plt.show()"
   ]
  },
  {
   "cell_type": "markdown",
   "metadata": {},
   "source": [
    "Видны явные аномалии"
   ]
  },
  {
   "cell_type": "code",
   "execution_count": 69,
   "metadata": {},
   "outputs": [
    {
     "data": {
      "text/plain": [
       "45    880\n",
       "60    538\n",
       "30    208\n",
       "90    204\n",
       "14    148\n",
       "Name: days_exposition, dtype: int64"
      ]
     },
     "execution_count": 69,
     "metadata": {},
     "output_type": "execute_result"
    }
   ],
   "source": [
    "good_exposition_data.value_counts().head()"
   ]
  },
  {
   "cell_type": "markdown",
   "metadata": {},
   "source": [
    "#### Значения 45, 60, 30, 90 - самые популярные и явно отличаются от других в большую сторону, вероятно данные искусственные и эти значения использовались для заполнения пропусков"
   ]
  },
  {
   "cell_type": "markdown",
   "metadata": {},
   "source": [
    "Попробуем убрать эти значения из рассмотрения и проверить, как будет выглядеть распределение:"
   ]
  },
  {
   "cell_type": "code",
   "execution_count": 70,
   "metadata": {},
   "outputs": [],
   "source": [
    "good_exposition_data = good_exposition_data.astype(int)"
   ]
  },
  {
   "cell_type": "code",
   "execution_count": 71,
   "metadata": {},
   "outputs": [],
   "source": [
    "good_exposition_data = good_exposition_data.where(good_exposition_data != 45)\n",
    "good_exposition_data = good_exposition_data.where(good_exposition_data != 60)\n",
    "good_exposition_data = good_exposition_data.where(good_exposition_data != 30)\n",
    "good_exposition_data = good_exposition_data.where(good_exposition_data != 90)"
   ]
  },
  {
   "cell_type": "code",
   "execution_count": 72,
   "metadata": {},
   "outputs": [
    {
     "data": {
      "image/png": "[encoded data removed]",
      "text/plain": [
       "<Figure size 720x360 with 1 Axes>"
      ]
     },
     "metadata": {
      "needs_background": "light"
     },
     "output_type": "display_data"
    }
   ],
   "source": [
    "good_exposition_data.plot(kind='hist', bins=60, density=True, figsize=(10,5), title='Время продажи без подозрительных значений')\n",
    "plt.show()"
   ]
  },
  {
   "cell_type": "code",
   "execution_count": 73,
   "metadata": {},
   "outputs": [
    {
     "data": {
      "text/plain": [
       "92.0"
      ]
     },
     "execution_count": 73,
     "metadata": {},
     "output_type": "execute_result"
    }
   ],
   "source": [
    "good_exposition_data.median()"
   ]
  },
  {
   "cell_type": "markdown",
   "metadata": {},
   "source": [
    "Гистограмма похожа на распределение Пуассона, мединное значение времени продажи - порядка 90-95 дней"
   ]
  },
  {
   "cell_type": "markdown",
   "metadata": {},
   "source": [
    "### Посмотрим, как стоимость `Квартиры` зависит от `площади` ,  `числа комнат`  ,  `удалённости от центра`."
   ]
  },
  {
   "cell_type": "code",
   "execution_count": 125,
   "metadata": {
    "scrolled": true
   },
   "outputs": [
    {
     "data": {
      "image/png": "[encoded data removed]",
      "text/plain": [
       "<Figure size 1440x288 with 3 Axes>"
      ]
     },
     "metadata": {
      "needs_background": "light"
     },
     "output_type": "display_data"
    }
   ],
   "source": [
    "fig, (ax1, ax2, ax3) = plt.subplots(1, 3, figsize=(20,4))\n",
    "fig.suptitle('Стоимость  квартиры', y=0.001, fontsize=22)\n",
    "\n",
    "ax1.scatter(df['last_price'], df['total_area'], c='r', alpha=0.05)\n",
    "ax1.set_xlim([0,20000000])\n",
    "ax1.set_ylim([0,250])\n",
    "ax1.set_ylabel('total_area', fontsize=14)\n",
    "\n",
    "df_normal_amount_of_rooms = df.query('rooms < 10')\n",
    "rooms_price = df_normal_amount_of_rooms[['rooms', 'last_price']].groupby(['rooms']).median()\n",
    "ax2.barh( rooms_price.index, rooms_price['last_price'] )\n",
    "ax2.set_xlim([0,200000000])\n",
    "ax2.set_ylabel('rooms', fontsize=14)\n",
    "y_pos = np.arange(0,10)\n",
    "ax2.set_yticks(y_pos)\n",
    "ax2.set_yticklabels([str(i) for i in range(0,10)])\n",
    "\n",
    "ax3.scatter(df['last_price'], df['cityCenters_nearest'], c='r', alpha=0.05)\n",
    "ax3.set_xlim([0,20000000])\n",
    "ax3.set_ylabel('Distance to center', fontsize=14)\n",
    "\n",
    "\n",
    "plt.show()"
   ]
  },
  {
   "cell_type": "code",
   "execution_count": 75,
   "metadata": {},
   "outputs": [
    {
     "data": {
      "text/html": [
       "<div>\n",
       "<style scoped>\n",
       "    .dataframe tbody tr th:only-of-type {\n",
       "        vertical-align: middle;\n",
       "    }\n",
       "\n",
       "    .dataframe tbody tr th {\n",
       "        vertical-align: top;\n",
       "    }\n",
       "\n",
       "    .dataframe thead th {\n",
       "        text-align: right;\n",
       "    }\n",
       "</style>\n",
       "<table border=\"1\" class=\"dataframe\">\n",
       "  <thead>\n",
       "    <tr style=\"text-align: right;\">\n",
       "      <th></th>\n",
       "      <th>last_price</th>\n",
       "      <th>total_area</th>\n",
       "    </tr>\n",
       "  </thead>\n",
       "  <tbody>\n",
       "    <tr>\n",
       "      <td>last_price</td>\n",
       "      <td>1.000000</td>\n",
       "      <td>0.653726</td>\n",
       "    </tr>\n",
       "    <tr>\n",
       "      <td>total_area</td>\n",
       "      <td>0.653726</td>\n",
       "      <td>1.000000</td>\n",
       "    </tr>\n",
       "  </tbody>\n",
       "</table>\n",
       "</div>"
      ],
      "text/plain": [
       "            last_price  total_area\n",
       "last_price    1.000000    0.653726\n",
       "total_area    0.653726    1.000000"
      ]
     },
     "execution_count": 75,
     "metadata": {},
     "output_type": "execute_result"
    }
   ],
   "source": [
    "df[['last_price','total_area']].corr()"
   ]
  },
  {
   "cell_type": "code",
   "execution_count": 76,
   "metadata": {},
   "outputs": [
    {
     "data": {
      "text/html": [
       "<div>\n",
       "<style scoped>\n",
       "    .dataframe tbody tr th:only-of-type {\n",
       "        vertical-align: middle;\n",
       "    }\n",
       "\n",
       "    .dataframe tbody tr th {\n",
       "        vertical-align: top;\n",
       "    }\n",
       "\n",
       "    .dataframe thead th {\n",
       "        text-align: right;\n",
       "    }\n",
       "</style>\n",
       "<table border=\"1\" class=\"dataframe\">\n",
       "  <thead>\n",
       "    <tr style=\"text-align: right;\">\n",
       "      <th></th>\n",
       "      <th>last_price</th>\n",
       "      <th>cityCenters_nearest</th>\n",
       "    </tr>\n",
       "  </thead>\n",
       "  <tbody>\n",
       "    <tr>\n",
       "      <td>last_price</td>\n",
       "      <td>1.000000</td>\n",
       "      <td>-0.228314</td>\n",
       "    </tr>\n",
       "    <tr>\n",
       "      <td>cityCenters_nearest</td>\n",
       "      <td>-0.228314</td>\n",
       "      <td>1.000000</td>\n",
       "    </tr>\n",
       "  </tbody>\n",
       "</table>\n",
       "</div>"
      ],
      "text/plain": [
       "                     last_price  cityCenters_nearest\n",
       "last_price             1.000000            -0.228314\n",
       "cityCenters_nearest   -0.228314             1.000000"
      ]
     },
     "execution_count": 76,
     "metadata": {},
     "output_type": "execute_result"
    }
   ],
   "source": [
    "df[['last_price','cityCenters_nearest']].corr()"
   ]
  },
  {
   "cell_type": "code",
   "execution_count": 77,
   "metadata": {},
   "outputs": [
    {
     "data": {
      "text/html": [
       "<div>\n",
       "<style scoped>\n",
       "    .dataframe tbody tr th:only-of-type {\n",
       "        vertical-align: middle;\n",
       "    }\n",
       "\n",
       "    .dataframe tbody tr th {\n",
       "        vertical-align: top;\n",
       "    }\n",
       "\n",
       "    .dataframe thead th {\n",
       "        text-align: right;\n",
       "    }\n",
       "</style>\n",
       "<table border=\"1\" class=\"dataframe\">\n",
       "  <thead>\n",
       "    <tr style=\"text-align: right;\">\n",
       "      <th></th>\n",
       "      <th>last_price</th>\n",
       "      <th>rooms</th>\n",
       "    </tr>\n",
       "  </thead>\n",
       "  <tbody>\n",
       "    <tr>\n",
       "      <td>last_price</td>\n",
       "      <td>1.000000</td>\n",
       "      <td>0.366223</td>\n",
       "    </tr>\n",
       "    <tr>\n",
       "      <td>rooms</td>\n",
       "      <td>0.366223</td>\n",
       "      <td>1.000000</td>\n",
       "    </tr>\n",
       "  </tbody>\n",
       "</table>\n",
       "</div>"
      ],
      "text/plain": [
       "            last_price     rooms\n",
       "last_price    1.000000  0.366223\n",
       "rooms         0.366223  1.000000"
      ]
     },
     "execution_count": 77,
     "metadata": {},
     "output_type": "execute_result"
    }
   ],
   "source": [
    "df[['last_price','rooms']].corr()"
   ]
  },
  {
   "cell_type": "markdown",
   "metadata": {},
   "source": [
    "#### На графике зависимости стоимости квартиры от общей площади явно видна положительная корреляция.\n",
    "#### На столбчатой диаграмме также заметна увеличивающаяся стоимость квартиры с увеличением числа комнат.\n",
    "#### На графике зависимости стоимости квартиры от расстояния до центра города также видна зависимость, предположительно - гиперболическая. Чем дальше квартира - тем дешевле она стоит"
   ]
  },
  {
   "cell_type": "markdown",
   "metadata": {},
   "source": [
    "## Рассмотрим как зависит стоимость квартиры от этажа"
   ]
  },
  {
   "cell_type": "code",
   "execution_count": 78,
   "metadata": {},
   "outputs": [],
   "source": [
    "floor_price = df[['floor_category', 'last_price']].groupby(['floor_category']).median().sort_values('last_price')"
   ]
  },
  {
   "cell_type": "code",
   "execution_count": 79,
   "metadata": {},
   "outputs": [
    {
     "data": {
      "text/html": [
       "<div>\n",
       "<style scoped>\n",
       "    .dataframe tbody tr th:only-of-type {\n",
       "        vertical-align: middle;\n",
       "    }\n",
       "\n",
       "    .dataframe tbody tr th {\n",
       "        vertical-align: top;\n",
       "    }\n",
       "\n",
       "    .dataframe thead th {\n",
       "        text-align: right;\n",
       "    }\n",
       "</style>\n",
       "<table border=\"1\" class=\"dataframe\">\n",
       "  <thead>\n",
       "    <tr style=\"text-align: right;\">\n",
       "      <th></th>\n",
       "      <th>last_price</th>\n",
       "    </tr>\n",
       "    <tr>\n",
       "      <th>floor_category</th>\n",
       "      <th></th>\n",
       "    </tr>\n",
       "  </thead>\n",
       "  <tbody>\n",
       "    <tr>\n",
       "      <td>первый</td>\n",
       "      <td>3900000</td>\n",
       "    </tr>\n",
       "    <tr>\n",
       "      <td>последний</td>\n",
       "      <td>4600000</td>\n",
       "    </tr>\n",
       "    <tr>\n",
       "      <td>другой</td>\n",
       "      <td>4799000</td>\n",
       "    </tr>\n",
       "  </tbody>\n",
       "</table>\n",
       "</div>"
      ],
      "text/plain": [
       "                last_price\n",
       "floor_category            \n",
       "первый             3900000\n",
       "последний          4600000\n",
       "другой             4799000"
      ]
     },
     "execution_count": 79,
     "metadata": {},
     "output_type": "execute_result"
    }
   ],
   "source": [
    "floor_price"
   ]
  },
  {
   "cell_type": "code",
   "execution_count": 80,
   "metadata": {},
   "outputs": [
    {
     "data": {
      "image/png": "[encoded data removed]",
      "text/plain": [
       "<Figure size 432x288 with 1 Axes>"
      ]
     },
     "metadata": {
      "needs_background": "light"
     },
     "output_type": "display_data"
    }
   ],
   "source": [
    "plt.barh( floor_price.index, floor_price['last_price'] )\n",
    "plt.show()"
   ]
  },
  {
   "cell_type": "markdown",
   "metadata": {},
   "source": [
    "#### Квартиры на первом этаже, как правило, дешевле других. Квартиры на последнем и других этажах стоят приблизительно одинаково."
   ]
  },
  {
   "cell_type": "markdown",
   "metadata": {},
   "source": [
    "## Рассмотрим как зависит стоимость квартиры от даты размещения: дня недели, месяца и года."
   ]
  },
  {
   "cell_type": "markdown",
   "metadata": {},
   "source": [
    "##### Год"
   ]
  },
  {
   "cell_type": "code",
   "execution_count": 81,
   "metadata": {},
   "outputs": [],
   "source": [
    "year_price = df[['year', 'last_price']].groupby(['year']).median().sort_index()"
   ]
  },
  {
   "cell_type": "code",
   "execution_count": 82,
   "metadata": {},
   "outputs": [
    {
     "data": {
      "image/png": "[encoded data removed]",
      "text/plain": [
       "<Figure size 432x288 with 1 Axes>"
      ]
     },
     "metadata": {
      "needs_background": "light"
     },
     "output_type": "display_data"
    }
   ],
   "source": [
    "plt.bar( year_price.index, year_price['last_price'] )\n",
    "plt.ylabel(\"Стоимость\", fontsize=12)\n",
    "plt.show()"
   ]
  },
  {
   "cell_type": "markdown",
   "metadata": {},
   "source": [
    "#### С 2014 года стоимость квартир сильно упала, однако с 2019 тренд меняется и возможен последующий рост стоимости"
   ]
  },
  {
   "cell_type": "markdown",
   "metadata": {},
   "source": [
    "##### Месяц"
   ]
  },
  {
   "cell_type": "code",
   "execution_count": 83,
   "metadata": {},
   "outputs": [],
   "source": [
    "month_price = df[['month', 'last_price']].groupby(['month']).median().sort_index()"
   ]
  },
  {
   "cell_type": "code",
   "execution_count": 84,
   "metadata": {},
   "outputs": [
    {
     "data": {
      "image/png": "[encoded data removed]",
      "text/plain": [
       "<Figure size 432x288 with 1 Axes>"
      ]
     },
     "metadata": {
      "needs_background": "light"
     },
     "output_type": "display_data"
    }
   ],
   "source": [
    "plt.bar( month_price.index, month_price['last_price'] )\n",
    "plt.ylabel(\"Стоимость\", fontsize=12)\n",
    "plt.show()"
   ]
  },
  {
   "cell_type": "markdown",
   "metadata": {},
   "source": [
    "##### От времени года стоимость практически не зависит"
   ]
  },
  {
   "cell_type": "markdown",
   "metadata": {},
   "source": [
    "##### День"
   ]
  },
  {
   "cell_type": "code",
   "execution_count": 85,
   "metadata": {},
   "outputs": [],
   "source": [
    "day_price = df[['weekday', 'last_price']].groupby(['weekday']).median().sort_index()"
   ]
  },
  {
   "cell_type": "code",
   "execution_count": 86,
   "metadata": {},
   "outputs": [
    {
     "data": {
      "image/png": "[encoded data removed]",
      "text/plain": [
       "<Figure size 432x288 with 1 Axes>"
      ]
     },
     "metadata": {
      "needs_background": "light"
     },
     "output_type": "display_data"
    }
   ],
   "source": [
    "plt.bar( day_price.index, day_price['last_price'] )\n",
    "plt.ylabel(\"Стоимость\", fontsize=12)\n",
    "plt.show()"
   ]
  },
  {
   "cell_type": "markdown",
   "metadata": {},
   "source": [
    "##### От дня размещения объявления стоимость также практически не меняется"
   ]
  },
  {
   "cell_type": "code",
   "execution_count": 87,
   "metadata": {},
   "outputs": [],
   "source": [
    "top_locals = df.groupby('locality_name')['locality_name'].count().sort_values(ascending=False).head(10).index.values.tolist()"
   ]
  },
  {
   "cell_type": "code",
   "execution_count": 88,
   "metadata": {},
   "outputs": [],
   "source": [
    "df_filtered = df.query('locality_name in @top_locals')"
   ]
  },
  {
   "cell_type": "code",
   "execution_count": 89,
   "metadata": {},
   "outputs": [
    {
     "data": {
      "text/plain": [
       "locality_name\n",
       "Санкт-Петербург      114819.294843\n",
       "Пушкин               103125.819291\n",
       "деревня Кудрово       92473.547576\n",
       "посёлок Парголово     90175.913458\n",
       "посёлок Мурино        85752.189195\n",
       "посёлок Шушары        78677.364217\n",
       "Колпино               75424.579098\n",
       "Гатчина               68746.146763\n",
       "Всеволожск            68654.473986\n",
       "Выборг                58141.909153\n",
       "Name: price_for_square_meter, dtype: float64"
      ]
     },
     "execution_count": 89,
     "metadata": {},
     "output_type": "execute_result"
    }
   ],
   "source": [
    "df_filtered.groupby('locality_name')['price_for_square_meter'].mean().sort_values(ascending=False)"
   ]
  },
  {
   "cell_type": "markdown",
   "metadata": {},
   "source": [
    "#### Самые дорогие квартиры располагаются, ожидаемо, в Санкт-Петербурге (115 тыс.), затем идет Пушкин. Низкая стоимость квартир в Выборге - в два раза дешевле, чем в Санкт-Петербурге. Во Всеволожске и Гатчине примерно одинаковые цены за кв.м., порядка 68 тыс."
   ]
  },
  {
   "cell_type": "markdown",
   "metadata": {},
   "source": [
    "## Стоимость квартир в центре"
   ]
  },
  {
   "cell_type": "code",
   "execution_count": 90,
   "metadata": {},
   "outputs": [],
   "source": [
    "df['kilometres_to_cityCenters'] =( df['cityCenters_nearest']/1000 ).astype(int)"
   ]
  },
  {
   "cell_type": "code",
   "execution_count": 91,
   "metadata": {},
   "outputs": [
    {
     "data": {
      "image/png": "[encoded data removed]",
      "text/plain": [
       "<Figure size 432x288 with 1 Axes>"
      ]
     },
     "metadata": {
      "needs_background": "light"
     },
     "output_type": "display_data"
    }
   ],
   "source": [
    "kilometres_to_cityCenters = df.groupby('kilometres_to_cityCenters')['last_price'].mean().plot()"
   ]
  },
  {
   "cell_type": "markdown",
   "metadata": {},
   "source": [
    "### На графике видно, что цена сильно меняется на 8-9 километрах, следовательно это и есть граница центра города"
   ]
  },
  {
   "cell_type": "markdown",
   "metadata": {},
   "source": [
    "## Проанализируем квартиры в центре"
   ]
  },
  {
   "cell_type": "code",
   "execution_count": 92,
   "metadata": {},
   "outputs": [],
   "source": [
    "df_flats_in_center = df.query('kilometres_to_cityCenters <=8')"
   ]
  },
  {
   "cell_type": "code",
   "execution_count": 93,
   "metadata": {},
   "outputs": [
    {
     "data": {
      "image/png": "[encoded data removed]",
      "text/plain": [
       "<Figure size 576x432 with 1 Axes>"
      ]
     },
     "metadata": {
      "needs_background": "light"
     },
     "output_type": "display_data"
    },
    {
     "data": {
      "image/png": "[encoded data removed]",
      "text/plain": [
       "<Figure size 576x432 with 1 Axes>"
      ]
     },
     "metadata": {
      "needs_background": "light"
     },
     "output_type": "display_data"
    },
    {
     "data": {
      "image/png": "[encoded data removed]",
      "text/plain": [
       "<Figure size 576x432 with 1 Axes>"
      ]
     },
     "metadata": {
      "needs_background": "light"
     },
     "output_type": "display_data"
    },
    {
     "data": {
      "image/png": "[encoded data removed]",
      "text/plain": [
       "<Figure size 576x432 with 1 Axes>"
      ]
     },
     "metadata": {
      "needs_background": "light"
     },
     "output_type": "display_data"
    }
   ],
   "source": [
    "df_flats_in_center.plot(y='total_area', kind='hist', density=True, bins=200, xlim=(0,500), figsize=(8,6), title='Общая площадь')\n",
    "df_flats_in_center.plot(y='last_price', kind='hist', density=True, bins=1000, xlim=(12190,40000000.0), figsize=(8,6), title='Стоимость')\n",
    "df_flats_in_center.plot(y='rooms', kind='hist', density=True, bins=10, range=(1, 5), figsize=(8,6), title='Число комнат')\n",
    "df_flats_in_center.plot(y='ceiling_height', kind='hist', bins=50, range=(2.5, 4), density=True, figsize=(8,6), title='Высота потолков')\n",
    "plt.show()"
   ]
  },
  {
   "cell_type": "code",
   "execution_count": 128,
   "metadata": {
    "scrolled": true
   },
   "outputs": [
    {
     "name": "stdout",
     "output_type": "stream",
     "text": [
      "Медианное значение площади 75.0\n"
     ]
    }
   ],
   "source": [
    "print(\"Медианное значение площади\", df_flats_in_center['total_area'].median() )"
   ]
  },
  {
   "cell_type": "code",
   "execution_count": 127,
   "metadata": {},
   "outputs": [
    {
     "name": "stdout",
     "output_type": "stream",
     "text": [
      "Медианное значение цены 8700000.0\n"
     ]
    }
   ],
   "source": [
    "print(\"Медианное значение цены\", df_flats_in_center['last_price'].median() )"
   ]
  },
  {
   "cell_type": "code",
   "execution_count": 129,
   "metadata": {},
   "outputs": [
    {
     "name": "stdout",
     "output_type": "stream",
     "text": [
      "Медианное значение высоты потолков 3.0\n"
     ]
    }
   ],
   "source": [
    "print(\"Медианное значение высоты потолков\", df_flats_in_center.ceiling_height.median() )"
   ]
  },
  {
   "cell_type": "markdown",
   "metadata": {},
   "source": [
    "### Квартиры в центре города могут \"похвастать\" большей площадью - 75 кв.м. Такие квартиры также в среднем более дорогие, медианная стоимость составляет почти 9 млн. В то время, как для всех квартир эта стоимость равняется 4,5 миллионам. Квартиры в центре также чаще двух- или трехкомнатные, тогда как в общей массе больше \"однушек\". У данных квартир также выше потолки, в среднем - 3 метра."
   ]
  },
  {
   "cell_type": "markdown",
   "metadata": {},
   "source": [
    "## Посмотрим какие факторы влияют на стоимость квартиры  в центре (`число комнат`, `этаж`, `удалённость от центра`, `дата размещения объявления`) и сравним с общим выводом"
   ]
  },
  {
   "cell_type": "markdown",
   "metadata": {},
   "source": [
    "### Число комнат"
   ]
  },
  {
   "cell_type": "code",
   "execution_count": 131,
   "metadata": {},
   "outputs": [
    {
     "data": {
      "image/png": "[encoded data removed]",
      "text/plain": [
       "<Figure size 432x288 with 1 Axes>"
      ]
     },
     "metadata": {
      "needs_background": "light"
     },
     "output_type": "display_data"
    }
   ],
   "source": [
    "df_flats_in_center_normalRooms = df_flats_in_center.query('rooms < 10')\n",
    "rooms_price_center = df_flats_in_center_normalRooms[['rooms', 'last_price']].groupby(['rooms']).median()\n",
    "plt.barh( rooms_price_center.index, rooms_price_center['last_price'] )\n",
    "plt.show()"
   ]
  },
  {
   "cell_type": "markdown",
   "metadata": {},
   "source": [
    "#### Стоимость квартиры также увеличивается в зависимости от количества комнат, как и во всем датасете"
   ]
  },
  {
   "cell_type": "markdown",
   "metadata": {},
   "source": [
    "### Этаж"
   ]
  },
  {
   "cell_type": "code",
   "execution_count": 132,
   "metadata": {},
   "outputs": [],
   "source": [
    "floor_price_center = ( df_flats_in_center[['floor_category', 'last_price']].groupby('floor_category').median()\n",
    "                      .sort_values('last_price') )"
   ]
  },
  {
   "cell_type": "code",
   "execution_count": 133,
   "metadata": {},
   "outputs": [
    {
     "data": {
      "image/png": "[encoded data removed]",
      "text/plain": [
       "<Figure size 432x288 with 1 Axes>"
      ]
     },
     "metadata": {
      "needs_background": "light"
     },
     "output_type": "display_data"
    }
   ],
   "source": [
    "plt.barh( floor_price_center.index, floor_price_center['last_price'] )\n",
    "plt.show()"
   ]
  },
  {
   "cell_type": "markdown",
   "metadata": {},
   "source": [
    "#### На первом этаже в центре города квартиры также дешевле."
   ]
  },
  {
   "cell_type": "markdown",
   "metadata": {},
   "source": [
    "### Удаленность"
   ]
  },
  {
   "cell_type": "code",
   "execution_count": 100,
   "metadata": {},
   "outputs": [
    {
     "data": {
      "image/png": "[encoded data removed]",
      "text/plain": [
       "<Figure size 432x288 with 1 Axes>"
      ]
     },
     "metadata": {
      "needs_background": "light"
     },
     "output_type": "display_data"
    }
   ],
   "source": [
    "plt.scatter(df_flats_in_center['last_price'], df_flats_in_center['cityCenters_nearest'], c='r', alpha=0.05)\n",
    "plt.xlim(0,20000000)\n",
    "plt.xlabel('Price', fontsize=14)\n",
    "plt.ylabel('Distance to center', fontsize=14)\n",
    "plt.show()"
   ]
  },
  {
   "cell_type": "code",
   "execution_count": 101,
   "metadata": {},
   "outputs": [
    {
     "data": {
      "text/html": [
       "<div>\n",
       "<style scoped>\n",
       "    .dataframe tbody tr th:only-of-type {\n",
       "        vertical-align: middle;\n",
       "    }\n",
       "\n",
       "    .dataframe tbody tr th {\n",
       "        vertical-align: top;\n",
       "    }\n",
       "\n",
       "    .dataframe thead th {\n",
       "        text-align: right;\n",
       "    }\n",
       "</style>\n",
       "<table border=\"1\" class=\"dataframe\">\n",
       "  <thead>\n",
       "    <tr style=\"text-align: right;\">\n",
       "      <th></th>\n",
       "      <th>last_price</th>\n",
       "      <th>cityCenters_nearest</th>\n",
       "    </tr>\n",
       "  </thead>\n",
       "  <tbody>\n",
       "    <tr>\n",
       "      <td>last_price</td>\n",
       "      <td>1.00000</td>\n",
       "      <td>-0.10059</td>\n",
       "    </tr>\n",
       "    <tr>\n",
       "      <td>cityCenters_nearest</td>\n",
       "      <td>-0.10059</td>\n",
       "      <td>1.00000</td>\n",
       "    </tr>\n",
       "  </tbody>\n",
       "</table>\n",
       "</div>"
      ],
      "text/plain": [
       "                     last_price  cityCenters_nearest\n",
       "last_price              1.00000             -0.10059\n",
       "cityCenters_nearest    -0.10059              1.00000"
      ]
     },
     "execution_count": 101,
     "metadata": {},
     "output_type": "execute_result"
    }
   ],
   "source": [
    "df_flats_in_center[['last_price', 'cityCenters_nearest']].corr()"
   ]
  },
  {
   "cell_type": "markdown",
   "metadata": {},
   "source": [
    "#### А вот зависимости от удаленности нет, квартиры могут стоить в центре по разному."
   ]
  },
  {
   "cell_type": "markdown",
   "metadata": {},
   "source": [
    "### Посмотрим зависимость от даты"
   ]
  },
  {
   "cell_type": "markdown",
   "metadata": {},
   "source": [
    "### Год"
   ]
  },
  {
   "cell_type": "code",
   "execution_count": 102,
   "metadata": {},
   "outputs": [],
   "source": [
    "year_price_center = df_flats_in_center[['year', 'last_price']].groupby(['year']).median().sort_index()"
   ]
  },
  {
   "cell_type": "code",
   "execution_count": 103,
   "metadata": {},
   "outputs": [
    {
     "data": {
      "image/png": "[encoded data removed]",
      "text/plain": [
       "<Figure size 432x288 with 1 Axes>"
      ]
     },
     "metadata": {
      "needs_background": "light"
     },
     "output_type": "display_data"
    }
   ],
   "source": [
    "plt.bar( year_price_center.index, year_price_center['last_price'] )\n",
    "plt.ylabel(\"Стоимость\", fontsize=12)\n",
    "plt.show()"
   ]
  },
  {
   "cell_type": "markdown",
   "metadata": {},
   "source": [
    "#### Диаграмма точно такая же, как и для всей выборки, с 2014 стоимость упала, а в 2019 начинает немного расти"
   ]
  },
  {
   "cell_type": "markdown",
   "metadata": {},
   "source": [
    "### Месяц"
   ]
  },
  {
   "cell_type": "code",
   "execution_count": 104,
   "metadata": {},
   "outputs": [],
   "source": [
    "month_price_center = df_flats_in_center[['month', 'last_price']].groupby(['month']).median().sort_index()"
   ]
  },
  {
   "cell_type": "code",
   "execution_count": 105,
   "metadata": {},
   "outputs": [
    {
     "data": {
      "image/png": "[encoded data removed]",
      "text/plain": [
       "<Figure size 432x288 with 1 Axes>"
      ]
     },
     "metadata": {
      "needs_background": "light"
     },
     "output_type": "display_data"
    }
   ],
   "source": [
    "plt.bar( month_price_center.index, month_price_center['last_price'] )\n",
    "plt.ylabel(\"Стоимость\", fontsize=12)\n",
    "plt.show()"
   ]
  },
  {
   "cell_type": "markdown",
   "metadata": {},
   "source": [
    "#### Зависимости от времени года все также не наблюдается."
   ]
  },
  {
   "cell_type": "markdown",
   "metadata": {},
   "source": [
    "### Шаг 5. Общий вывод"
   ]
  },
  {
   "cell_type": "markdown",
   "metadata": {},
   "source": [
    "1. На первом шаге при знакомстве с датасетом были обнаружены множественные пропуски, а также много аномалий, от которых мы в последствии успешно избавились. \n",
    "2. На втором этапе для пропущенных значений этажности и высоты потолков домов были восстановлены значения по доступным данным из датасета. Изменены типы данных, обработаны выбросы и аномальные значения.\n",
    "3. На третьем шаге были посчитаны и добавлены в таблицу:\n",
    "    1. цена квадратного метра;\n",
    "    2. день недели, месяц и год публикации объявления;\n",
    "    3. этаж квартиры; варианты — первый, последний, другой;\n",
    "    4. соотношение жилой и общей площади, а также отношение площади кухни к общей.\n",
    "4. На четвертом этапе был произведен исследовательский анализ данных и выявлено, что:\n",
    "    1. В среднем квартира продается около трех месяцев\n",
    "    2. Стоимость квартиры зависит пропорционально  от площади, количества комнат и обратно пропорционально расстоянию до центра\n",
    "    3. На первом этаже квартиры стоят дешевле\n",
    "    4. Стоимость квартир с 2014 по 2019 снизилась на 2,5 млн. руб.\n",
    "    5. Зависимости стоимости продажи от времени года или дня недели обнаружено не было\n",
    "    6. Самые дорогие квартиры находятся в Санкт-Петербурге и Пушкине, а самые дешевые в Выборге\n",
    "    7. Граница центра - 9 километров\n",
    "    8. Квартиры в центре сильно отличаются в цене, примерно в два раза дороже. Площадь квартир больше в среднем на 30 кв.м. Чаще встречаются двух- и трехкомнатные квартиры, нежели однокомнатные. Более высокие потолки - 3 метра, для остальных квартир из датасета - 2,7. \n",
    "    9. Стоимость квартир в центре также зависит от количества комнат, от этажа (на первом - дешевле), а от удаленности цена квартиры не зависит, в отличие от квартир из всей выборки.\n",
    "    10. Стоимость квартир в центре Санкт-Петербурга также упала с 2014 года.\n",
    "    11. Зависимости от времени года продажи квартиры не обнаружено."
   ]
  },
  {
   "cell_type": "markdown",
   "metadata": {},
   "source": [
    "### Чек-лист готовности проекта\n",
    "\n",
    "Поставьте 'x' в выполненных пунктах. Далее нажмите Shift+Enter."
   ]
  },
  {
   "cell_type": "markdown",
   "metadata": {},
   "source": [
    "- [x]  открыт файл\n",
    "- [ ]  файлы изучены (выведены первые строки, метод info())\n",
    "- [ ]  определены пропущенные значения\n",
    "- [ ]  заполнены пропущенные значения\n",
    "- [ ]  есть пояснение, какие пропущенные значения обнаружены\n",
    "- [ ]  изменены типы данных\n",
    "- [ ]  есть пояснение, в каких столбцах изменены типы и почему\n",
    "- [ ]  посчитано и добавлено в таблицу: цена квадратного метра\n",
    "- [ ]  посчитано и добавлено в таблицу: день недели, месяц и год публикации объявления\n",
    "- [ ]  посчитано и добавлено в таблицу: этаж квартиры; варианты — первый, последний, другой\n",
    "- [ ]  посчитано и добавлено в таблицу: соотношение жилой и общей площади, а также отношение площади кухни к общей\n",
    "- [ ]  изучены следующие параметры: площадь, цена, число комнат, высота потолков\n",
    "- [ ]  построены гистограммы для каждого параметра\n",
    "- [ ]  выполнено задание: \"Изучите время продажи квартиры. Постройте гистограмму. Посчитайте среднее и медиану. Опишите, сколько обычно занимает продажа. Когда можно считать, что продажи прошли очень быстро, а когда необычно долго?\"\n",
    "- [ ]  выполнено задание: \"Уберите редкие и выбивающиеся значения. Опишите, какие особенности обнаружили.\"\n",
    "- [ ]  выполнено задание: \"Какие факторы больше всего влияют на стоимость квартиры? Изучите, зависит ли цена от квадратного метра, числа комнат, этажа (первого или последнего), удалённости от центра. Также изучите зависимость от даты размещения: дня недели, месяца и года. \"Выберите 10 населённых пунктов с наибольшим числом объявлений. Посчитайте среднюю цену квадратного метра в этих населённых пунктах. Выделите населённые пункты с самой высокой и низкой стоимостью жилья. Эти данные можно найти по имени в столбце '*locality_name'*. \"\n",
    "- [ ]  выполнено задание: \"Изучите предложения квартир: для каждой квартиры есть информация о расстоянии до центра. Выделите квартиры в Санкт-Петербурге (*'locality_name'*). Ваша задача — выяснить, какая область входит в центр. Создайте столбец с расстоянием до центра в километрах: округлите до целых значений. После этого посчитайте среднюю цену для каждого километра. Постройте график: он должен показывать, как цена зависит от удалённости от центра. Определите границу, где график сильно меняется — это и будет центральная зона. \"\n",
    "- [ ]  выполнено задание: \"Выделите сегмент квартир в центре. Проанализируйте эту территорию и изучите следующие параметры: площадь, цена, число комнат, высота потолков. Также выделите факторы, которые влияют на стоимость квартиры (число комнат, этаж, удалённость от центра, дата размещения объявления). Сделайте выводы. Отличаются ли они от общих выводов по всему городу?\"\n",
    "- [ ]  в каждом этапе есть выводы\n",
    "- [ ]  есть общий вывод"
   ]
  },
  {
   "cell_type": "code",
   "execution_count": null,
   "metadata": {},
   "outputs": [],
   "source": []
  }
 ],
 "metadata": {
  "kernelspec": {
   "display_name": "Python 3",
   "language": "python",
   "name": "python3"
  },
  "language_info": {
   "codemirror_mode": {
    "name": "ipython",
    "version": 3
   },
   "file_extension": ".py",
   "mimetype": "text/x-python",
   "name": "python",
   "nbconvert_exporter": "python",
   "pygments_lexer": "ipython3",
   "version": "3.8.5"
  }
 },
 "nbformat": 4,
 "nbformat_minor": 2
}
